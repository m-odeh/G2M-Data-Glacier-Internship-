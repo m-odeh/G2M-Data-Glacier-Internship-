{
  "nbformat": 4,
  "nbformat_minor": 0,
  "metadata": {
    "colab": {
      "name": "G2M.ipynb",
      "provenance": [],
      "collapsed_sections": [],
      "authorship_tag": "ABX9TyNESjckyUdp8k7XC3GYUGS3"
    },
    "kernelspec": {
      "name": "python3",
      "display_name": "Python 3"
    }
  },
  "cells": [
    {
      "cell_type": "code",
      "metadata": {
        "colab": {
          "resources": {
            "http://localhost:8080/nbextensions/google.colab/files.js": {
              "data": "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",
              "ok": true,
              "headers": [
                [
                  "content-type",
                  "application/javascript"
                ]
              ],
              "status": 200,
              "status_text": ""
            }
          },
          "base_uri": "https://localhost:8080/",
          "height": 174
        },
        "id": "owOdrukIGAHO",
        "outputId": "08840bef-8f89-4793-aa54-3aa7d602bbba"
      },
      "source": [
        "from google.colab import files\r\n",
        "uploaded = files.upload()"
      ],
      "execution_count": 1,
      "outputs": [
        {
          "output_type": "display_data",
          "data": {
            "text/html": [
              "\n",
              "     <input type=\"file\" id=\"files-29f3b418-8090-4209-81d4-d9715bc5ca12\" name=\"files[]\" multiple disabled\n",
              "        style=\"border:none\" />\n",
              "     <output id=\"result-29f3b418-8090-4209-81d4-d9715bc5ca12\">\n",
              "      Upload widget is only available when the cell has been executed in the\n",
              "      current browser session. Please rerun this cell to enable.\n",
              "      </output>\n",
              "      <script src=\"/nbextensions/google.colab/files.js\"></script> "
            ],
            "text/plain": [
              "<IPython.core.display.HTML object>"
            ]
          },
          "metadata": {
            "tags": []
          }
        },
        {
          "output_type": "stream",
          "text": [
            "Saving Cab_Data - Copy.csv to Cab_Data - Copy (1).csv\n",
            "Saving City.csv to City (1).csv\n",
            "Saving Customer_ID.csv to Customer_ID (1).csv\n",
            "Saving Transaction_ID.csv to Transaction_ID (1).csv\n"
          ],
          "name": "stdout"
        }
      ]
    },
    {
      "cell_type": "code",
      "metadata": {
        "id": "mOLLcIK7GA6n"
      },
      "source": [
        "import pandas as pd\r\n",
        "import seaborn as sns\r\n",
        "import matplotlib.pyplot as plt\r\n"
      ],
      "execution_count": 2,
      "outputs": []
    },
    {
      "cell_type": "code",
      "metadata": {
        "id": "ZOYMLlmkINZ1"
      },
      "source": [
        "cab=pd.read_csv(\"Cab_Data - Copy.csv\")\r\n",
        "city=pd.read_csv(\"City.csv\")\r\n",
        "customer=pd.read_csv(\"Customer_ID.csv\")\r\n",
        "transaction=pd.read_csv(\"Transaction_ID.csv\")\r\n"
      ],
      "execution_count": 3,
      "outputs": []
    },
    {
      "cell_type": "code",
      "metadata": {
        "colab": {
          "base_uri": "https://localhost:8080/",
          "height": 204
        },
        "id": "Z6OJHZOOITrE",
        "outputId": "76f7be38-26c6-4c58-bdf5-f96af6ac0ad6"
      },
      "source": [
        "cab.head()"
      ],
      "execution_count": 4,
      "outputs": [
        {
          "output_type": "execute_result",
          "data": {
            "text/html": [
              "<div>\n",
              "<style scoped>\n",
              "    .dataframe tbody tr th:only-of-type {\n",
              "        vertical-align: middle;\n",
              "    }\n",
              "\n",
              "    .dataframe tbody tr th {\n",
              "        vertical-align: top;\n",
              "    }\n",
              "\n",
              "    .dataframe thead th {\n",
              "        text-align: right;\n",
              "    }\n",
              "</style>\n",
              "<table border=\"1\" class=\"dataframe\">\n",
              "  <thead>\n",
              "    <tr style=\"text-align: right;\">\n",
              "      <th></th>\n",
              "      <th>Transaction ID</th>\n",
              "      <th>Date of Travel</th>\n",
              "      <th>Company</th>\n",
              "      <th>City</th>\n",
              "      <th>KM Travelled</th>\n",
              "      <th>Price Charged</th>\n",
              "      <th>Cost of Trip</th>\n",
              "    </tr>\n",
              "  </thead>\n",
              "  <tbody>\n",
              "    <tr>\n",
              "      <th>0</th>\n",
              "      <td>10000013</td>\n",
              "      <td>1/2/2016</td>\n",
              "      <td>Pink Cab</td>\n",
              "      <td>ATLANTA GA</td>\n",
              "      <td>9.04</td>\n",
              "      <td>125.20</td>\n",
              "      <td>97.632</td>\n",
              "    </tr>\n",
              "    <tr>\n",
              "      <th>1</th>\n",
              "      <td>10000029</td>\n",
              "      <td>1/2/2016</td>\n",
              "      <td>Pink Cab</td>\n",
              "      <td>BOSTON MA</td>\n",
              "      <td>21.34</td>\n",
              "      <td>324.21</td>\n",
              "      <td>226.204</td>\n",
              "    </tr>\n",
              "    <tr>\n",
              "      <th>2</th>\n",
              "      <td>10000030</td>\n",
              "      <td>1/2/2016</td>\n",
              "      <td>Pink Cab</td>\n",
              "      <td>BOSTON MA</td>\n",
              "      <td>41.30</td>\n",
              "      <td>646.06</td>\n",
              "      <td>454.300</td>\n",
              "    </tr>\n",
              "    <tr>\n",
              "      <th>3</th>\n",
              "      <td>10000041</td>\n",
              "      <td>1/2/2016</td>\n",
              "      <td>Pink Cab</td>\n",
              "      <td>CHICAGO IL</td>\n",
              "      <td>35.02</td>\n",
              "      <td>598.43</td>\n",
              "      <td>406.232</td>\n",
              "    </tr>\n",
              "    <tr>\n",
              "      <th>4</th>\n",
              "      <td>10000045</td>\n",
              "      <td>1/2/2016</td>\n",
              "      <td>Pink Cab</td>\n",
              "      <td>CHICAGO IL</td>\n",
              "      <td>3.24</td>\n",
              "      <td>48.04</td>\n",
              "      <td>33.696</td>\n",
              "    </tr>\n",
              "  </tbody>\n",
              "</table>\n",
              "</div>"
            ],
            "text/plain": [
              "   Transaction ID Date of Travel  ... Price Charged Cost of Trip\n",
              "0        10000013       1/2/2016  ...        125.20       97.632\n",
              "1        10000029       1/2/2016  ...        324.21      226.204\n",
              "2        10000030       1/2/2016  ...        646.06      454.300\n",
              "3        10000041       1/2/2016  ...        598.43      406.232\n",
              "4        10000045       1/2/2016  ...         48.04       33.696\n",
              "\n",
              "[5 rows x 7 columns]"
            ]
          },
          "metadata": {
            "tags": []
          },
          "execution_count": 4
        }
      ]
    },
    {
      "cell_type": "code",
      "metadata": {
        "colab": {
          "base_uri": "https://localhost:8080/",
          "height": 669
        },
        "id": "S5TtDfkbFjRJ",
        "outputId": "d00451f9-8afc-4a46-8561-4a1e4ead3260"
      },
      "source": [
        "city.head(20)"
      ],
      "execution_count": 5,
      "outputs": [
        {
          "output_type": "execute_result",
          "data": {
            "text/html": [
              "<div>\n",
              "<style scoped>\n",
              "    .dataframe tbody tr th:only-of-type {\n",
              "        vertical-align: middle;\n",
              "    }\n",
              "\n",
              "    .dataframe tbody tr th {\n",
              "        vertical-align: top;\n",
              "    }\n",
              "\n",
              "    .dataframe thead th {\n",
              "        text-align: right;\n",
              "    }\n",
              "</style>\n",
              "<table border=\"1\" class=\"dataframe\">\n",
              "  <thead>\n",
              "    <tr style=\"text-align: right;\">\n",
              "      <th></th>\n",
              "      <th>City</th>\n",
              "      <th>Population</th>\n",
              "      <th>Users</th>\n",
              "    </tr>\n",
              "  </thead>\n",
              "  <tbody>\n",
              "    <tr>\n",
              "      <th>0</th>\n",
              "      <td>NEW YORK NY</td>\n",
              "      <td>8,405,837</td>\n",
              "      <td>302,149</td>\n",
              "    </tr>\n",
              "    <tr>\n",
              "      <th>1</th>\n",
              "      <td>CHICAGO IL</td>\n",
              "      <td>1,955,130</td>\n",
              "      <td>164,468</td>\n",
              "    </tr>\n",
              "    <tr>\n",
              "      <th>2</th>\n",
              "      <td>LOS ANGELES CA</td>\n",
              "      <td>1,595,037</td>\n",
              "      <td>144,132</td>\n",
              "    </tr>\n",
              "    <tr>\n",
              "      <th>3</th>\n",
              "      <td>MIAMI FL</td>\n",
              "      <td>1,339,155</td>\n",
              "      <td>17,675</td>\n",
              "    </tr>\n",
              "    <tr>\n",
              "      <th>4</th>\n",
              "      <td>SILICON VALLEY</td>\n",
              "      <td>1,177,609</td>\n",
              "      <td>27,247</td>\n",
              "    </tr>\n",
              "    <tr>\n",
              "      <th>5</th>\n",
              "      <td>ORANGE COUNTY</td>\n",
              "      <td>1,030,185</td>\n",
              "      <td>12,994</td>\n",
              "    </tr>\n",
              "    <tr>\n",
              "      <th>6</th>\n",
              "      <td>SAN DIEGO CA</td>\n",
              "      <td>959,307</td>\n",
              "      <td>69,995</td>\n",
              "    </tr>\n",
              "    <tr>\n",
              "      <th>7</th>\n",
              "      <td>PHOENIX AZ</td>\n",
              "      <td>943,999</td>\n",
              "      <td>6,133</td>\n",
              "    </tr>\n",
              "    <tr>\n",
              "      <th>8</th>\n",
              "      <td>DALLAS TX</td>\n",
              "      <td>942,908</td>\n",
              "      <td>22,157</td>\n",
              "    </tr>\n",
              "    <tr>\n",
              "      <th>9</th>\n",
              "      <td>ATLANTA GA</td>\n",
              "      <td>814,885</td>\n",
              "      <td>24,701</td>\n",
              "    </tr>\n",
              "    <tr>\n",
              "      <th>10</th>\n",
              "      <td>DENVER CO</td>\n",
              "      <td>754,233</td>\n",
              "      <td>12,421</td>\n",
              "    </tr>\n",
              "    <tr>\n",
              "      <th>11</th>\n",
              "      <td>AUSTIN TX</td>\n",
              "      <td>698,371</td>\n",
              "      <td>14,978</td>\n",
              "    </tr>\n",
              "    <tr>\n",
              "      <th>12</th>\n",
              "      <td>SEATTLE WA</td>\n",
              "      <td>671,238</td>\n",
              "      <td>25,063</td>\n",
              "    </tr>\n",
              "    <tr>\n",
              "      <th>13</th>\n",
              "      <td>TUCSON AZ</td>\n",
              "      <td>631,442</td>\n",
              "      <td>5,712</td>\n",
              "    </tr>\n",
              "    <tr>\n",
              "      <th>14</th>\n",
              "      <td>SAN FRANCISCO CA</td>\n",
              "      <td>629,591</td>\n",
              "      <td>213,609</td>\n",
              "    </tr>\n",
              "    <tr>\n",
              "      <th>15</th>\n",
              "      <td>SACRAMENTO CA</td>\n",
              "      <td>545,776</td>\n",
              "      <td>7,044</td>\n",
              "    </tr>\n",
              "    <tr>\n",
              "      <th>16</th>\n",
              "      <td>PITTSBURGH PA</td>\n",
              "      <td>542,085</td>\n",
              "      <td>3,643</td>\n",
              "    </tr>\n",
              "    <tr>\n",
              "      <th>17</th>\n",
              "      <td>WASHINGTON DC</td>\n",
              "      <td>418,859</td>\n",
              "      <td>127,001</td>\n",
              "    </tr>\n",
              "    <tr>\n",
              "      <th>18</th>\n",
              "      <td>NASHVILLE TN</td>\n",
              "      <td>327,225</td>\n",
              "      <td>9,270</td>\n",
              "    </tr>\n",
              "    <tr>\n",
              "      <th>19</th>\n",
              "      <td>BOSTON MA</td>\n",
              "      <td>248,968</td>\n",
              "      <td>80,021</td>\n",
              "    </tr>\n",
              "  </tbody>\n",
              "</table>\n",
              "</div>"
            ],
            "text/plain": [
              "                City   Population      Users\n",
              "0        NEW YORK NY   8,405,837    302,149 \n",
              "1         CHICAGO IL   1,955,130    164,468 \n",
              "2     LOS ANGELES CA   1,595,037    144,132 \n",
              "3           MIAMI FL   1,339,155     17,675 \n",
              "4     SILICON VALLEY   1,177,609     27,247 \n",
              "5      ORANGE COUNTY   1,030,185     12,994 \n",
              "6       SAN DIEGO CA     959,307     69,995 \n",
              "7         PHOENIX AZ     943,999      6,133 \n",
              "8          DALLAS TX     942,908     22,157 \n",
              "9         ATLANTA GA     814,885     24,701 \n",
              "10         DENVER CO     754,233     12,421 \n",
              "11         AUSTIN TX     698,371     14,978 \n",
              "12        SEATTLE WA     671,238     25,063 \n",
              "13         TUCSON AZ     631,442      5,712 \n",
              "14  SAN FRANCISCO CA     629,591    213,609 \n",
              "15     SACRAMENTO CA     545,776      7,044 \n",
              "16     PITTSBURGH PA     542,085      3,643 \n",
              "17     WASHINGTON DC     418,859    127,001 \n",
              "18      NASHVILLE TN     327,225      9,270 \n",
              "19         BOSTON MA     248,968     80,021 "
            ]
          },
          "metadata": {
            "tags": []
          },
          "execution_count": 5
        }
      ]
    },
    {
      "cell_type": "code",
      "metadata": {
        "colab": {
          "base_uri": "https://localhost:8080/",
          "height": 204
        },
        "id": "_OxP_PPlFzOa",
        "outputId": "469b6d2f-48f3-4bf2-bc79-2dc880d5749f"
      },
      "source": [
        "city.head()"
      ],
      "execution_count": 6,
      "outputs": [
        {
          "output_type": "execute_result",
          "data": {
            "text/html": [
              "<div>\n",
              "<style scoped>\n",
              "    .dataframe tbody tr th:only-of-type {\n",
              "        vertical-align: middle;\n",
              "    }\n",
              "\n",
              "    .dataframe tbody tr th {\n",
              "        vertical-align: top;\n",
              "    }\n",
              "\n",
              "    .dataframe thead th {\n",
              "        text-align: right;\n",
              "    }\n",
              "</style>\n",
              "<table border=\"1\" class=\"dataframe\">\n",
              "  <thead>\n",
              "    <tr style=\"text-align: right;\">\n",
              "      <th></th>\n",
              "      <th>City</th>\n",
              "      <th>Population</th>\n",
              "      <th>Users</th>\n",
              "    </tr>\n",
              "  </thead>\n",
              "  <tbody>\n",
              "    <tr>\n",
              "      <th>0</th>\n",
              "      <td>NEW YORK NY</td>\n",
              "      <td>8,405,837</td>\n",
              "      <td>302,149</td>\n",
              "    </tr>\n",
              "    <tr>\n",
              "      <th>1</th>\n",
              "      <td>CHICAGO IL</td>\n",
              "      <td>1,955,130</td>\n",
              "      <td>164,468</td>\n",
              "    </tr>\n",
              "    <tr>\n",
              "      <th>2</th>\n",
              "      <td>LOS ANGELES CA</td>\n",
              "      <td>1,595,037</td>\n",
              "      <td>144,132</td>\n",
              "    </tr>\n",
              "    <tr>\n",
              "      <th>3</th>\n",
              "      <td>MIAMI FL</td>\n",
              "      <td>1,339,155</td>\n",
              "      <td>17,675</td>\n",
              "    </tr>\n",
              "    <tr>\n",
              "      <th>4</th>\n",
              "      <td>SILICON VALLEY</td>\n",
              "      <td>1,177,609</td>\n",
              "      <td>27,247</td>\n",
              "    </tr>\n",
              "  </tbody>\n",
              "</table>\n",
              "</div>"
            ],
            "text/plain": [
              "             City   Population      Users\n",
              "0     NEW YORK NY   8,405,837    302,149 \n",
              "1      CHICAGO IL   1,955,130    164,468 \n",
              "2  LOS ANGELES CA   1,595,037    144,132 \n",
              "3        MIAMI FL   1,339,155     17,675 \n",
              "4  SILICON VALLEY   1,177,609     27,247 "
            ]
          },
          "metadata": {
            "tags": []
          },
          "execution_count": 6
        }
      ]
    },
    {
      "cell_type": "code",
      "metadata": {
        "colab": {
          "base_uri": "https://localhost:8080/",
          "height": 204
        },
        "id": "tUqvF2uSJCtD",
        "outputId": "7363a15f-dcf3-4c7f-8cd0-b176a8bbac2c"
      },
      "source": [
        "customer.head()"
      ],
      "execution_count": 7,
      "outputs": [
        {
          "output_type": "execute_result",
          "data": {
            "text/html": [
              "<div>\n",
              "<style scoped>\n",
              "    .dataframe tbody tr th:only-of-type {\n",
              "        vertical-align: middle;\n",
              "    }\n",
              "\n",
              "    .dataframe tbody tr th {\n",
              "        vertical-align: top;\n",
              "    }\n",
              "\n",
              "    .dataframe thead th {\n",
              "        text-align: right;\n",
              "    }\n",
              "</style>\n",
              "<table border=\"1\" class=\"dataframe\">\n",
              "  <thead>\n",
              "    <tr style=\"text-align: right;\">\n",
              "      <th></th>\n",
              "      <th>Customer ID</th>\n",
              "      <th>Gender</th>\n",
              "      <th>Age</th>\n",
              "      <th>Income (USD/Month)</th>\n",
              "    </tr>\n",
              "  </thead>\n",
              "  <tbody>\n",
              "    <tr>\n",
              "      <th>0</th>\n",
              "      <td>29290</td>\n",
              "      <td>Male</td>\n",
              "      <td>28</td>\n",
              "      <td>10813</td>\n",
              "    </tr>\n",
              "    <tr>\n",
              "      <th>1</th>\n",
              "      <td>27703</td>\n",
              "      <td>Male</td>\n",
              "      <td>27</td>\n",
              "      <td>9237</td>\n",
              "    </tr>\n",
              "    <tr>\n",
              "      <th>2</th>\n",
              "      <td>28712</td>\n",
              "      <td>Male</td>\n",
              "      <td>53</td>\n",
              "      <td>11242</td>\n",
              "    </tr>\n",
              "    <tr>\n",
              "      <th>3</th>\n",
              "      <td>28020</td>\n",
              "      <td>Male</td>\n",
              "      <td>23</td>\n",
              "      <td>23327</td>\n",
              "    </tr>\n",
              "    <tr>\n",
              "      <th>4</th>\n",
              "      <td>27182</td>\n",
              "      <td>Male</td>\n",
              "      <td>33</td>\n",
              "      <td>8536</td>\n",
              "    </tr>\n",
              "  </tbody>\n",
              "</table>\n",
              "</div>"
            ],
            "text/plain": [
              "   Customer ID Gender  Age  Income (USD/Month)\n",
              "0        29290   Male   28               10813\n",
              "1        27703   Male   27                9237\n",
              "2        28712   Male   53               11242\n",
              "3        28020   Male   23               23327\n",
              "4        27182   Male   33                8536"
            ]
          },
          "metadata": {
            "tags": []
          },
          "execution_count": 7
        }
      ]
    },
    {
      "cell_type": "code",
      "metadata": {
        "colab": {
          "base_uri": "https://localhost:8080/",
          "height": 204
        },
        "id": "Cq-5tkL0JCwm",
        "outputId": "7fa5479f-c8cc-4911-a82e-0f5d8290e02f"
      },
      "source": [
        "transaction.head()"
      ],
      "execution_count": 8,
      "outputs": [
        {
          "output_type": "execute_result",
          "data": {
            "text/html": [
              "<div>\n",
              "<style scoped>\n",
              "    .dataframe tbody tr th:only-of-type {\n",
              "        vertical-align: middle;\n",
              "    }\n",
              "\n",
              "    .dataframe tbody tr th {\n",
              "        vertical-align: top;\n",
              "    }\n",
              "\n",
              "    .dataframe thead th {\n",
              "        text-align: right;\n",
              "    }\n",
              "</style>\n",
              "<table border=\"1\" class=\"dataframe\">\n",
              "  <thead>\n",
              "    <tr style=\"text-align: right;\">\n",
              "      <th></th>\n",
              "      <th>Transaction ID</th>\n",
              "      <th>Customer ID</th>\n",
              "      <th>Payment_Mode</th>\n",
              "    </tr>\n",
              "  </thead>\n",
              "  <tbody>\n",
              "    <tr>\n",
              "      <th>0</th>\n",
              "      <td>10000011</td>\n",
              "      <td>29290</td>\n",
              "      <td>Card</td>\n",
              "    </tr>\n",
              "    <tr>\n",
              "      <th>1</th>\n",
              "      <td>10000012</td>\n",
              "      <td>27703</td>\n",
              "      <td>Card</td>\n",
              "    </tr>\n",
              "    <tr>\n",
              "      <th>2</th>\n",
              "      <td>10000013</td>\n",
              "      <td>28712</td>\n",
              "      <td>Cash</td>\n",
              "    </tr>\n",
              "    <tr>\n",
              "      <th>3</th>\n",
              "      <td>10000014</td>\n",
              "      <td>28020</td>\n",
              "      <td>Cash</td>\n",
              "    </tr>\n",
              "    <tr>\n",
              "      <th>4</th>\n",
              "      <td>10000015</td>\n",
              "      <td>27182</td>\n",
              "      <td>Card</td>\n",
              "    </tr>\n",
              "  </tbody>\n",
              "</table>\n",
              "</div>"
            ],
            "text/plain": [
              "   Transaction ID  Customer ID Payment_Mode\n",
              "0        10000011        29290         Card\n",
              "1        10000012        27703         Card\n",
              "2        10000013        28712         Cash\n",
              "3        10000014        28020         Cash\n",
              "4        10000015        27182         Card"
            ]
          },
          "metadata": {
            "tags": []
          },
          "execution_count": 8
        }
      ]
    },
    {
      "cell_type": "code",
      "metadata": {
        "colab": {
          "base_uri": "https://localhost:8080/",
          "height": 204
        },
        "id": "9MRN6IWDJCzy",
        "outputId": "1a620efe-283e-4282-b4ed-5eb787175464"
      },
      "source": [
        "# merging data frames\r\n",
        "Data_merged1=pd.merge(transaction, customer, on=\"Customer ID\")\r\n",
        "\r\n",
        "Data_merged1.head()"
      ],
      "execution_count": 9,
      "outputs": [
        {
          "output_type": "execute_result",
          "data": {
            "text/html": [
              "<div>\n",
              "<style scoped>\n",
              "    .dataframe tbody tr th:only-of-type {\n",
              "        vertical-align: middle;\n",
              "    }\n",
              "\n",
              "    .dataframe tbody tr th {\n",
              "        vertical-align: top;\n",
              "    }\n",
              "\n",
              "    .dataframe thead th {\n",
              "        text-align: right;\n",
              "    }\n",
              "</style>\n",
              "<table border=\"1\" class=\"dataframe\">\n",
              "  <thead>\n",
              "    <tr style=\"text-align: right;\">\n",
              "      <th></th>\n",
              "      <th>Transaction ID</th>\n",
              "      <th>Customer ID</th>\n",
              "      <th>Payment_Mode</th>\n",
              "      <th>Gender</th>\n",
              "      <th>Age</th>\n",
              "      <th>Income (USD/Month)</th>\n",
              "    </tr>\n",
              "  </thead>\n",
              "  <tbody>\n",
              "    <tr>\n",
              "      <th>0</th>\n",
              "      <td>10000011</td>\n",
              "      <td>29290</td>\n",
              "      <td>Card</td>\n",
              "      <td>Male</td>\n",
              "      <td>28</td>\n",
              "      <td>10813</td>\n",
              "    </tr>\n",
              "    <tr>\n",
              "      <th>1</th>\n",
              "      <td>10351127</td>\n",
              "      <td>29290</td>\n",
              "      <td>Cash</td>\n",
              "      <td>Male</td>\n",
              "      <td>28</td>\n",
              "      <td>10813</td>\n",
              "    </tr>\n",
              "    <tr>\n",
              "      <th>2</th>\n",
              "      <td>10412921</td>\n",
              "      <td>29290</td>\n",
              "      <td>Card</td>\n",
              "      <td>Male</td>\n",
              "      <td>28</td>\n",
              "      <td>10813</td>\n",
              "    </tr>\n",
              "    <tr>\n",
              "      <th>3</th>\n",
              "      <td>10000012</td>\n",
              "      <td>27703</td>\n",
              "      <td>Card</td>\n",
              "      <td>Male</td>\n",
              "      <td>27</td>\n",
              "      <td>9237</td>\n",
              "    </tr>\n",
              "    <tr>\n",
              "      <th>4</th>\n",
              "      <td>10320494</td>\n",
              "      <td>27703</td>\n",
              "      <td>Card</td>\n",
              "      <td>Male</td>\n",
              "      <td>27</td>\n",
              "      <td>9237</td>\n",
              "    </tr>\n",
              "  </tbody>\n",
              "</table>\n",
              "</div>"
            ],
            "text/plain": [
              "   Transaction ID  Customer ID Payment_Mode Gender  Age  Income (USD/Month)\n",
              "0        10000011        29290         Card   Male   28               10813\n",
              "1        10351127        29290         Cash   Male   28               10813\n",
              "2        10412921        29290         Card   Male   28               10813\n",
              "3        10000012        27703         Card   Male   27                9237\n",
              "4        10320494        27703         Card   Male   27                9237"
            ]
          },
          "metadata": {
            "tags": []
          },
          "execution_count": 9
        }
      ]
    },
    {
      "cell_type": "code",
      "metadata": {
        "colab": {
          "base_uri": "https://localhost:8080/",
          "height": 204
        },
        "id": "1slyKq2bJC2p",
        "outputId": "6cd9d230-9432-419a-a87b-b4991c9e8e8c"
      },
      "source": [
        "\r\n",
        "Data_merged=pd.merge(cab, Data_merged1, on=\"Transaction ID\")\r\n",
        "Data_merged.head()"
      ],
      "execution_count": 10,
      "outputs": [
        {
          "output_type": "execute_result",
          "data": {
            "text/html": [
              "<div>\n",
              "<style scoped>\n",
              "    .dataframe tbody tr th:only-of-type {\n",
              "        vertical-align: middle;\n",
              "    }\n",
              "\n",
              "    .dataframe tbody tr th {\n",
              "        vertical-align: top;\n",
              "    }\n",
              "\n",
              "    .dataframe thead th {\n",
              "        text-align: right;\n",
              "    }\n",
              "</style>\n",
              "<table border=\"1\" class=\"dataframe\">\n",
              "  <thead>\n",
              "    <tr style=\"text-align: right;\">\n",
              "      <th></th>\n",
              "      <th>Transaction ID</th>\n",
              "      <th>Date of Travel</th>\n",
              "      <th>Company</th>\n",
              "      <th>City</th>\n",
              "      <th>KM Travelled</th>\n",
              "      <th>Price Charged</th>\n",
              "      <th>Cost of Trip</th>\n",
              "      <th>Customer ID</th>\n",
              "      <th>Payment_Mode</th>\n",
              "      <th>Gender</th>\n",
              "      <th>Age</th>\n",
              "      <th>Income (USD/Month)</th>\n",
              "    </tr>\n",
              "  </thead>\n",
              "  <tbody>\n",
              "    <tr>\n",
              "      <th>0</th>\n",
              "      <td>10000013</td>\n",
              "      <td>1/2/2016</td>\n",
              "      <td>Pink Cab</td>\n",
              "      <td>ATLANTA GA</td>\n",
              "      <td>9.04</td>\n",
              "      <td>125.20</td>\n",
              "      <td>97.632</td>\n",
              "      <td>28712</td>\n",
              "      <td>Cash</td>\n",
              "      <td>Male</td>\n",
              "      <td>53</td>\n",
              "      <td>11242</td>\n",
              "    </tr>\n",
              "    <tr>\n",
              "      <th>1</th>\n",
              "      <td>10000029</td>\n",
              "      <td>1/2/2016</td>\n",
              "      <td>Pink Cab</td>\n",
              "      <td>BOSTON MA</td>\n",
              "      <td>21.34</td>\n",
              "      <td>324.21</td>\n",
              "      <td>226.204</td>\n",
              "      <td>58925</td>\n",
              "      <td>Card</td>\n",
              "      <td>Male</td>\n",
              "      <td>38</td>\n",
              "      <td>26550</td>\n",
              "    </tr>\n",
              "    <tr>\n",
              "      <th>2</th>\n",
              "      <td>10000030</td>\n",
              "      <td>1/2/2016</td>\n",
              "      <td>Pink Cab</td>\n",
              "      <td>BOSTON MA</td>\n",
              "      <td>41.30</td>\n",
              "      <td>646.06</td>\n",
              "      <td>454.300</td>\n",
              "      <td>58551</td>\n",
              "      <td>Card</td>\n",
              "      <td>Male</td>\n",
              "      <td>25</td>\n",
              "      <td>21734</td>\n",
              "    </tr>\n",
              "    <tr>\n",
              "      <th>3</th>\n",
              "      <td>10000041</td>\n",
              "      <td>1/2/2016</td>\n",
              "      <td>Pink Cab</td>\n",
              "      <td>CHICAGO IL</td>\n",
              "      <td>35.02</td>\n",
              "      <td>598.43</td>\n",
              "      <td>406.232</td>\n",
              "      <td>4289</td>\n",
              "      <td>Card</td>\n",
              "      <td>Male</td>\n",
              "      <td>19</td>\n",
              "      <td>28719</td>\n",
              "    </tr>\n",
              "    <tr>\n",
              "      <th>4</th>\n",
              "      <td>10000045</td>\n",
              "      <td>1/2/2016</td>\n",
              "      <td>Pink Cab</td>\n",
              "      <td>CHICAGO IL</td>\n",
              "      <td>3.24</td>\n",
              "      <td>48.04</td>\n",
              "      <td>33.696</td>\n",
              "      <td>5734</td>\n",
              "      <td>Card</td>\n",
              "      <td>Male</td>\n",
              "      <td>23</td>\n",
              "      <td>22475</td>\n",
              "    </tr>\n",
              "  </tbody>\n",
              "</table>\n",
              "</div>"
            ],
            "text/plain": [
              "   Transaction ID Date of Travel   Company  ... Gender  Age  Income (USD/Month)\n",
              "0        10000013       1/2/2016  Pink Cab  ...   Male   53               11242\n",
              "1        10000029       1/2/2016  Pink Cab  ...   Male   38               26550\n",
              "2        10000030       1/2/2016  Pink Cab  ...   Male   25               21734\n",
              "3        10000041       1/2/2016  Pink Cab  ...   Male   19               28719\n",
              "4        10000045       1/2/2016  Pink Cab  ...   Male   23               22475\n",
              "\n",
              "[5 rows x 12 columns]"
            ]
          },
          "metadata": {
            "tags": []
          },
          "execution_count": 10
        }
      ]
    },
    {
      "cell_type": "code",
      "metadata": {
        "colab": {
          "base_uri": "https://localhost:8080/"
        },
        "id": "5jtEbeKAJaQd",
        "outputId": "6bbe54b8-cd0c-4a49-92ea-7e5a4537289a"
      },
      "source": [
        "Data_merged.dtypes"
      ],
      "execution_count": 11,
      "outputs": [
        {
          "output_type": "execute_result",
          "data": {
            "text/plain": [
              "Transaction ID          int64\n",
              "Date of Travel         object\n",
              "Company                object\n",
              "City                   object\n",
              "KM Travelled          float64\n",
              "Price Charged         float64\n",
              "Cost of Trip          float64\n",
              "Customer ID             int64\n",
              "Payment_Mode           object\n",
              "Gender                 object\n",
              "Age                     int64\n",
              "Income (USD/Month)      int64\n",
              "dtype: object"
            ]
          },
          "metadata": {
            "tags": []
          },
          "execution_count": 11
        }
      ]
    },
    {
      "cell_type": "code",
      "metadata": {
        "colab": {
          "base_uri": "https://localhost:8080/"
        },
        "id": "sdDJWiZnY4Ou",
        "outputId": "5e35abfa-5b66-4d2b-f4cb-efebc625911b"
      },
      "source": [
        "# list unique values\r\n",
        "Data_merged.Company.unique()"
      ],
      "execution_count": 12,
      "outputs": [
        {
          "output_type": "execute_result",
          "data": {
            "text/plain": [
              "array(['Pink Cab', 'Yellow Cab'], dtype=object)"
            ]
          },
          "metadata": {
            "tags": []
          },
          "execution_count": 12
        }
      ]
    },
    {
      "cell_type": "code",
      "metadata": {
        "id": "mqRSlwMuY4Xp"
      },
      "source": [
        "Data_merged['Date of Travel'] = pd.to_datetime(Data_merged['Date of Travel'])"
      ],
      "execution_count": 13,
      "outputs": []
    },
    {
      "cell_type": "code",
      "metadata": {
        "colab": {
          "base_uri": "https://localhost:8080/",
          "height": 204
        },
        "id": "893Ez4MsZC95",
        "outputId": "a6bf9d19-1936-4474-e4bc-7d2c3a4e71a6"
      },
      "source": [
        "Data_merged.head()"
      ],
      "execution_count": 14,
      "outputs": [
        {
          "output_type": "execute_result",
          "data": {
            "text/html": [
              "<div>\n",
              "<style scoped>\n",
              "    .dataframe tbody tr th:only-of-type {\n",
              "        vertical-align: middle;\n",
              "    }\n",
              "\n",
              "    .dataframe tbody tr th {\n",
              "        vertical-align: top;\n",
              "    }\n",
              "\n",
              "    .dataframe thead th {\n",
              "        text-align: right;\n",
              "    }\n",
              "</style>\n",
              "<table border=\"1\" class=\"dataframe\">\n",
              "  <thead>\n",
              "    <tr style=\"text-align: right;\">\n",
              "      <th></th>\n",
              "      <th>Transaction ID</th>\n",
              "      <th>Date of Travel</th>\n",
              "      <th>Company</th>\n",
              "      <th>City</th>\n",
              "      <th>KM Travelled</th>\n",
              "      <th>Price Charged</th>\n",
              "      <th>Cost of Trip</th>\n",
              "      <th>Customer ID</th>\n",
              "      <th>Payment_Mode</th>\n",
              "      <th>Gender</th>\n",
              "      <th>Age</th>\n",
              "      <th>Income (USD/Month)</th>\n",
              "    </tr>\n",
              "  </thead>\n",
              "  <tbody>\n",
              "    <tr>\n",
              "      <th>0</th>\n",
              "      <td>10000013</td>\n",
              "      <td>2016-01-02</td>\n",
              "      <td>Pink Cab</td>\n",
              "      <td>ATLANTA GA</td>\n",
              "      <td>9.04</td>\n",
              "      <td>125.20</td>\n",
              "      <td>97.632</td>\n",
              "      <td>28712</td>\n",
              "      <td>Cash</td>\n",
              "      <td>Male</td>\n",
              "      <td>53</td>\n",
              "      <td>11242</td>\n",
              "    </tr>\n",
              "    <tr>\n",
              "      <th>1</th>\n",
              "      <td>10000029</td>\n",
              "      <td>2016-01-02</td>\n",
              "      <td>Pink Cab</td>\n",
              "      <td>BOSTON MA</td>\n",
              "      <td>21.34</td>\n",
              "      <td>324.21</td>\n",
              "      <td>226.204</td>\n",
              "      <td>58925</td>\n",
              "      <td>Card</td>\n",
              "      <td>Male</td>\n",
              "      <td>38</td>\n",
              "      <td>26550</td>\n",
              "    </tr>\n",
              "    <tr>\n",
              "      <th>2</th>\n",
              "      <td>10000030</td>\n",
              "      <td>2016-01-02</td>\n",
              "      <td>Pink Cab</td>\n",
              "      <td>BOSTON MA</td>\n",
              "      <td>41.30</td>\n",
              "      <td>646.06</td>\n",
              "      <td>454.300</td>\n",
              "      <td>58551</td>\n",
              "      <td>Card</td>\n",
              "      <td>Male</td>\n",
              "      <td>25</td>\n",
              "      <td>21734</td>\n",
              "    </tr>\n",
              "    <tr>\n",
              "      <th>3</th>\n",
              "      <td>10000041</td>\n",
              "      <td>2016-01-02</td>\n",
              "      <td>Pink Cab</td>\n",
              "      <td>CHICAGO IL</td>\n",
              "      <td>35.02</td>\n",
              "      <td>598.43</td>\n",
              "      <td>406.232</td>\n",
              "      <td>4289</td>\n",
              "      <td>Card</td>\n",
              "      <td>Male</td>\n",
              "      <td>19</td>\n",
              "      <td>28719</td>\n",
              "    </tr>\n",
              "    <tr>\n",
              "      <th>4</th>\n",
              "      <td>10000045</td>\n",
              "      <td>2016-01-02</td>\n",
              "      <td>Pink Cab</td>\n",
              "      <td>CHICAGO IL</td>\n",
              "      <td>3.24</td>\n",
              "      <td>48.04</td>\n",
              "      <td>33.696</td>\n",
              "      <td>5734</td>\n",
              "      <td>Card</td>\n",
              "      <td>Male</td>\n",
              "      <td>23</td>\n",
              "      <td>22475</td>\n",
              "    </tr>\n",
              "  </tbody>\n",
              "</table>\n",
              "</div>"
            ],
            "text/plain": [
              "   Transaction ID Date of Travel   Company  ... Gender  Age  Income (USD/Month)\n",
              "0        10000013     2016-01-02  Pink Cab  ...   Male   53               11242\n",
              "1        10000029     2016-01-02  Pink Cab  ...   Male   38               26550\n",
              "2        10000030     2016-01-02  Pink Cab  ...   Male   25               21734\n",
              "3        10000041     2016-01-02  Pink Cab  ...   Male   19               28719\n",
              "4        10000045     2016-01-02  Pink Cab  ...   Male   23               22475\n",
              "\n",
              "[5 rows x 12 columns]"
            ]
          },
          "metadata": {
            "tags": []
          },
          "execution_count": 14
        }
      ]
    },
    {
      "cell_type": "code",
      "metadata": {
        "colab": {
          "base_uri": "https://localhost:8080/",
          "height": 306
        },
        "id": "xICsjei5hHRn",
        "outputId": "d41a262b-ce84-44d4-fa18-0a97c10cdfdc"
      },
      "source": [
        "Data_merged['Profit']=Data_merged['Price Charged']-Data_merged['Cost of Trip']\r\n",
        "Data_merged['Profit/KM']=Data_merged['KM Travelled']/Data_merged['Profit']\r\n",
        "Data_merged.head()"
      ],
      "execution_count": 15,
      "outputs": [
        {
          "output_type": "execute_result",
          "data": {
            "text/html": [
              "<div>\n",
              "<style scoped>\n",
              "    .dataframe tbody tr th:only-of-type {\n",
              "        vertical-align: middle;\n",
              "    }\n",
              "\n",
              "    .dataframe tbody tr th {\n",
              "        vertical-align: top;\n",
              "    }\n",
              "\n",
              "    .dataframe thead th {\n",
              "        text-align: right;\n",
              "    }\n",
              "</style>\n",
              "<table border=\"1\" class=\"dataframe\">\n",
              "  <thead>\n",
              "    <tr style=\"text-align: right;\">\n",
              "      <th></th>\n",
              "      <th>Transaction ID</th>\n",
              "      <th>Date of Travel</th>\n",
              "      <th>Company</th>\n",
              "      <th>City</th>\n",
              "      <th>KM Travelled</th>\n",
              "      <th>Price Charged</th>\n",
              "      <th>Cost of Trip</th>\n",
              "      <th>Customer ID</th>\n",
              "      <th>Payment_Mode</th>\n",
              "      <th>Gender</th>\n",
              "      <th>Age</th>\n",
              "      <th>Income (USD/Month)</th>\n",
              "      <th>Profit</th>\n",
              "      <th>Profit/KM</th>\n",
              "    </tr>\n",
              "  </thead>\n",
              "  <tbody>\n",
              "    <tr>\n",
              "      <th>0</th>\n",
              "      <td>10000013</td>\n",
              "      <td>2016-01-02</td>\n",
              "      <td>Pink Cab</td>\n",
              "      <td>ATLANTA GA</td>\n",
              "      <td>9.04</td>\n",
              "      <td>125.20</td>\n",
              "      <td>97.632</td>\n",
              "      <td>28712</td>\n",
              "      <td>Cash</td>\n",
              "      <td>Male</td>\n",
              "      <td>53</td>\n",
              "      <td>11242</td>\n",
              "      <td>27.568</td>\n",
              "      <td>0.327916</td>\n",
              "    </tr>\n",
              "    <tr>\n",
              "      <th>1</th>\n",
              "      <td>10000029</td>\n",
              "      <td>2016-01-02</td>\n",
              "      <td>Pink Cab</td>\n",
              "      <td>BOSTON MA</td>\n",
              "      <td>21.34</td>\n",
              "      <td>324.21</td>\n",
              "      <td>226.204</td>\n",
              "      <td>58925</td>\n",
              "      <td>Card</td>\n",
              "      <td>Male</td>\n",
              "      <td>38</td>\n",
              "      <td>26550</td>\n",
              "      <td>98.006</td>\n",
              "      <td>0.217742</td>\n",
              "    </tr>\n",
              "    <tr>\n",
              "      <th>2</th>\n",
              "      <td>10000030</td>\n",
              "      <td>2016-01-02</td>\n",
              "      <td>Pink Cab</td>\n",
              "      <td>BOSTON MA</td>\n",
              "      <td>41.30</td>\n",
              "      <td>646.06</td>\n",
              "      <td>454.300</td>\n",
              "      <td>58551</td>\n",
              "      <td>Card</td>\n",
              "      <td>Male</td>\n",
              "      <td>25</td>\n",
              "      <td>21734</td>\n",
              "      <td>191.760</td>\n",
              "      <td>0.215373</td>\n",
              "    </tr>\n",
              "    <tr>\n",
              "      <th>3</th>\n",
              "      <td>10000041</td>\n",
              "      <td>2016-01-02</td>\n",
              "      <td>Pink Cab</td>\n",
              "      <td>CHICAGO IL</td>\n",
              "      <td>35.02</td>\n",
              "      <td>598.43</td>\n",
              "      <td>406.232</td>\n",
              "      <td>4289</td>\n",
              "      <td>Card</td>\n",
              "      <td>Male</td>\n",
              "      <td>19</td>\n",
              "      <td>28719</td>\n",
              "      <td>192.198</td>\n",
              "      <td>0.182208</td>\n",
              "    </tr>\n",
              "    <tr>\n",
              "      <th>4</th>\n",
              "      <td>10000045</td>\n",
              "      <td>2016-01-02</td>\n",
              "      <td>Pink Cab</td>\n",
              "      <td>CHICAGO IL</td>\n",
              "      <td>3.24</td>\n",
              "      <td>48.04</td>\n",
              "      <td>33.696</td>\n",
              "      <td>5734</td>\n",
              "      <td>Card</td>\n",
              "      <td>Male</td>\n",
              "      <td>23</td>\n",
              "      <td>22475</td>\n",
              "      <td>14.344</td>\n",
              "      <td>0.225878</td>\n",
              "    </tr>\n",
              "  </tbody>\n",
              "</table>\n",
              "</div>"
            ],
            "text/plain": [
              "   Transaction ID Date of Travel  ...   Profit Profit/KM\n",
              "0        10000013     2016-01-02  ...   27.568  0.327916\n",
              "1        10000029     2016-01-02  ...   98.006  0.217742\n",
              "2        10000030     2016-01-02  ...  191.760  0.215373\n",
              "3        10000041     2016-01-02  ...  192.198  0.182208\n",
              "4        10000045     2016-01-02  ...   14.344  0.225878\n",
              "\n",
              "[5 rows x 14 columns]"
            ]
          },
          "metadata": {
            "tags": []
          },
          "execution_count": 15
        }
      ]
    },
    {
      "cell_type": "code",
      "metadata": {
        "colab": {
          "base_uri": "https://localhost:8080/",
          "height": 606
        },
        "id": "UxQv3OLKBnB9",
        "outputId": "821fc37e-d96c-4223-c104-cefb1e9d2456"
      },
      "source": [
        "Data_merged"
      ],
      "execution_count": 16,
      "outputs": [
        {
          "output_type": "execute_result",
          "data": {
            "text/html": [
              "<div>\n",
              "<style scoped>\n",
              "    .dataframe tbody tr th:only-of-type {\n",
              "        vertical-align: middle;\n",
              "    }\n",
              "\n",
              "    .dataframe tbody tr th {\n",
              "        vertical-align: top;\n",
              "    }\n",
              "\n",
              "    .dataframe thead th {\n",
              "        text-align: right;\n",
              "    }\n",
              "</style>\n",
              "<table border=\"1\" class=\"dataframe\">\n",
              "  <thead>\n",
              "    <tr style=\"text-align: right;\">\n",
              "      <th></th>\n",
              "      <th>Transaction ID</th>\n",
              "      <th>Date of Travel</th>\n",
              "      <th>Company</th>\n",
              "      <th>City</th>\n",
              "      <th>KM Travelled</th>\n",
              "      <th>Price Charged</th>\n",
              "      <th>Cost of Trip</th>\n",
              "      <th>Customer ID</th>\n",
              "      <th>Payment_Mode</th>\n",
              "      <th>Gender</th>\n",
              "      <th>Age</th>\n",
              "      <th>Income (USD/Month)</th>\n",
              "      <th>Profit</th>\n",
              "      <th>Profit/KM</th>\n",
              "    </tr>\n",
              "  </thead>\n",
              "  <tbody>\n",
              "    <tr>\n",
              "      <th>0</th>\n",
              "      <td>10000013</td>\n",
              "      <td>2016-01-02</td>\n",
              "      <td>Pink Cab</td>\n",
              "      <td>ATLANTA GA</td>\n",
              "      <td>9.04</td>\n",
              "      <td>125.20</td>\n",
              "      <td>97.6320</td>\n",
              "      <td>28712</td>\n",
              "      <td>Cash</td>\n",
              "      <td>Male</td>\n",
              "      <td>53</td>\n",
              "      <td>11242</td>\n",
              "      <td>27.5680</td>\n",
              "      <td>0.327916</td>\n",
              "    </tr>\n",
              "    <tr>\n",
              "      <th>1</th>\n",
              "      <td>10000029</td>\n",
              "      <td>2016-01-02</td>\n",
              "      <td>Pink Cab</td>\n",
              "      <td>BOSTON MA</td>\n",
              "      <td>21.34</td>\n",
              "      <td>324.21</td>\n",
              "      <td>226.2040</td>\n",
              "      <td>58925</td>\n",
              "      <td>Card</td>\n",
              "      <td>Male</td>\n",
              "      <td>38</td>\n",
              "      <td>26550</td>\n",
              "      <td>98.0060</td>\n",
              "      <td>0.217742</td>\n",
              "    </tr>\n",
              "    <tr>\n",
              "      <th>2</th>\n",
              "      <td>10000030</td>\n",
              "      <td>2016-01-02</td>\n",
              "      <td>Pink Cab</td>\n",
              "      <td>BOSTON MA</td>\n",
              "      <td>41.30</td>\n",
              "      <td>646.06</td>\n",
              "      <td>454.3000</td>\n",
              "      <td>58551</td>\n",
              "      <td>Card</td>\n",
              "      <td>Male</td>\n",
              "      <td>25</td>\n",
              "      <td>21734</td>\n",
              "      <td>191.7600</td>\n",
              "      <td>0.215373</td>\n",
              "    </tr>\n",
              "    <tr>\n",
              "      <th>3</th>\n",
              "      <td>10000041</td>\n",
              "      <td>2016-01-02</td>\n",
              "      <td>Pink Cab</td>\n",
              "      <td>CHICAGO IL</td>\n",
              "      <td>35.02</td>\n",
              "      <td>598.43</td>\n",
              "      <td>406.2320</td>\n",
              "      <td>4289</td>\n",
              "      <td>Card</td>\n",
              "      <td>Male</td>\n",
              "      <td>19</td>\n",
              "      <td>28719</td>\n",
              "      <td>192.1980</td>\n",
              "      <td>0.182208</td>\n",
              "    </tr>\n",
              "    <tr>\n",
              "      <th>4</th>\n",
              "      <td>10000045</td>\n",
              "      <td>2016-01-02</td>\n",
              "      <td>Pink Cab</td>\n",
              "      <td>CHICAGO IL</td>\n",
              "      <td>3.24</td>\n",
              "      <td>48.04</td>\n",
              "      <td>33.6960</td>\n",
              "      <td>5734</td>\n",
              "      <td>Card</td>\n",
              "      <td>Male</td>\n",
              "      <td>23</td>\n",
              "      <td>22475</td>\n",
              "      <td>14.3440</td>\n",
              "      <td>0.225878</td>\n",
              "    </tr>\n",
              "    <tr>\n",
              "      <th>...</th>\n",
              "      <td>...</td>\n",
              "      <td>...</td>\n",
              "      <td>...</td>\n",
              "      <td>...</td>\n",
              "      <td>...</td>\n",
              "      <td>...</td>\n",
              "      <td>...</td>\n",
              "      <td>...</td>\n",
              "      <td>...</td>\n",
              "      <td>...</td>\n",
              "      <td>...</td>\n",
              "      <td>...</td>\n",
              "      <td>...</td>\n",
              "      <td>...</td>\n",
              "    </tr>\n",
              "    <tr>\n",
              "      <th>359387</th>\n",
              "      <td>10439960</td>\n",
              "      <td>2018-12-31</td>\n",
              "      <td>Yellow Cab</td>\n",
              "      <td>WASHINGTON DC</td>\n",
              "      <td>33.93</td>\n",
              "      <td>474.47</td>\n",
              "      <td>411.2316</td>\n",
              "      <td>52449</td>\n",
              "      <td>Card</td>\n",
              "      <td>Female</td>\n",
              "      <td>40</td>\n",
              "      <td>23569</td>\n",
              "      <td>63.2384</td>\n",
              "      <td>0.536541</td>\n",
              "    </tr>\n",
              "    <tr>\n",
              "      <th>359388</th>\n",
              "      <td>10439984</td>\n",
              "      <td>2018-12-31</td>\n",
              "      <td>Yellow Cab</td>\n",
              "      <td>WASHINGTON DC</td>\n",
              "      <td>40.00</td>\n",
              "      <td>641.78</td>\n",
              "      <td>484.8000</td>\n",
              "      <td>51614</td>\n",
              "      <td>Card</td>\n",
              "      <td>Female</td>\n",
              "      <td>55</td>\n",
              "      <td>12279</td>\n",
              "      <td>156.9800</td>\n",
              "      <td>0.254810</td>\n",
              "    </tr>\n",
              "    <tr>\n",
              "      <th>359389</th>\n",
              "      <td>10440028</td>\n",
              "      <td>2018-12-31</td>\n",
              "      <td>Yellow Cab</td>\n",
              "      <td>WASHINGTON DC</td>\n",
              "      <td>26.22</td>\n",
              "      <td>405.25</td>\n",
              "      <td>327.2256</td>\n",
              "      <td>52389</td>\n",
              "      <td>Card</td>\n",
              "      <td>Female</td>\n",
              "      <td>29</td>\n",
              "      <td>5568</td>\n",
              "      <td>78.0244</td>\n",
              "      <td>0.336049</td>\n",
              "    </tr>\n",
              "    <tr>\n",
              "      <th>359390</th>\n",
              "      <td>10440034</td>\n",
              "      <td>2018-12-31</td>\n",
              "      <td>Yellow Cab</td>\n",
              "      <td>WASHINGTON DC</td>\n",
              "      <td>34.68</td>\n",
              "      <td>505.38</td>\n",
              "      <td>470.2608</td>\n",
              "      <td>51877</td>\n",
              "      <td>Cash</td>\n",
              "      <td>Male</td>\n",
              "      <td>46</td>\n",
              "      <td>16993</td>\n",
              "      <td>35.1192</td>\n",
              "      <td>0.987494</td>\n",
              "    </tr>\n",
              "    <tr>\n",
              "      <th>359391</th>\n",
              "      <td>10440093</td>\n",
              "      <td>2018-12-31</td>\n",
              "      <td>Yellow Cab</td>\n",
              "      <td>WASHINGTON DC</td>\n",
              "      <td>4.32</td>\n",
              "      <td>60.41</td>\n",
              "      <td>55.4688</td>\n",
              "      <td>53810</td>\n",
              "      <td>Cash</td>\n",
              "      <td>Male</td>\n",
              "      <td>23</td>\n",
              "      <td>21455</td>\n",
              "      <td>4.9412</td>\n",
              "      <td>0.874282</td>\n",
              "    </tr>\n",
              "  </tbody>\n",
              "</table>\n",
              "<p>359392 rows × 14 columns</p>\n",
              "</div>"
            ],
            "text/plain": [
              "        Transaction ID Date of Travel  ...    Profit Profit/KM\n",
              "0             10000013     2016-01-02  ...   27.5680  0.327916\n",
              "1             10000029     2016-01-02  ...   98.0060  0.217742\n",
              "2             10000030     2016-01-02  ...  191.7600  0.215373\n",
              "3             10000041     2016-01-02  ...  192.1980  0.182208\n",
              "4             10000045     2016-01-02  ...   14.3440  0.225878\n",
              "...                ...            ...  ...       ...       ...\n",
              "359387        10439960     2018-12-31  ...   63.2384  0.536541\n",
              "359388        10439984     2018-12-31  ...  156.9800  0.254810\n",
              "359389        10440028     2018-12-31  ...   78.0244  0.336049\n",
              "359390        10440034     2018-12-31  ...   35.1192  0.987494\n",
              "359391        10440093     2018-12-31  ...    4.9412  0.874282\n",
              "\n",
              "[359392 rows x 14 columns]"
            ]
          },
          "metadata": {
            "tags": []
          },
          "execution_count": 16
        }
      ]
    },
    {
      "cell_type": "code",
      "metadata": {
        "colab": {
          "base_uri": "https://localhost:8080/",
          "height": 297
        },
        "id": "m6pYyhYhk3CB",
        "outputId": "1fceaf2f-71f6-4752-e1eb-7c4c4bf73806"
      },
      "source": [
        "Data_merged.describe()"
      ],
      "execution_count": 17,
      "outputs": [
        {
          "output_type": "execute_result",
          "data": {
            "text/html": [
              "<div>\n",
              "<style scoped>\n",
              "    .dataframe tbody tr th:only-of-type {\n",
              "        vertical-align: middle;\n",
              "    }\n",
              "\n",
              "    .dataframe tbody tr th {\n",
              "        vertical-align: top;\n",
              "    }\n",
              "\n",
              "    .dataframe thead th {\n",
              "        text-align: right;\n",
              "    }\n",
              "</style>\n",
              "<table border=\"1\" class=\"dataframe\">\n",
              "  <thead>\n",
              "    <tr style=\"text-align: right;\">\n",
              "      <th></th>\n",
              "      <th>Transaction ID</th>\n",
              "      <th>KM Travelled</th>\n",
              "      <th>Price Charged</th>\n",
              "      <th>Cost of Trip</th>\n",
              "      <th>Customer ID</th>\n",
              "      <th>Age</th>\n",
              "      <th>Income (USD/Month)</th>\n",
              "      <th>Profit</th>\n",
              "      <th>Profit/KM</th>\n",
              "    </tr>\n",
              "  </thead>\n",
              "  <tbody>\n",
              "    <tr>\n",
              "      <th>count</th>\n",
              "      <td>3.593920e+05</td>\n",
              "      <td>359392.000000</td>\n",
              "      <td>359392.000000</td>\n",
              "      <td>359392.000000</td>\n",
              "      <td>359392.000000</td>\n",
              "      <td>359392.000000</td>\n",
              "      <td>359392.000000</td>\n",
              "      <td>359392.000000</td>\n",
              "      <td>3.593920e+05</td>\n",
              "    </tr>\n",
              "    <tr>\n",
              "      <th>mean</th>\n",
              "      <td>1.022076e+07</td>\n",
              "      <td>22.567254</td>\n",
              "      <td>423.443311</td>\n",
              "      <td>286.190113</td>\n",
              "      <td>19191.652115</td>\n",
              "      <td>35.336705</td>\n",
              "      <td>15048.822937</td>\n",
              "      <td>137.253198</td>\n",
              "      <td>inf</td>\n",
              "    </tr>\n",
              "    <tr>\n",
              "      <th>std</th>\n",
              "      <td>1.268058e+05</td>\n",
              "      <td>12.233526</td>\n",
              "      <td>274.378911</td>\n",
              "      <td>157.993661</td>\n",
              "      <td>21012.412463</td>\n",
              "      <td>12.594234</td>\n",
              "      <td>7969.409482</td>\n",
              "      <td>160.311840</td>\n",
              "      <td>NaN</td>\n",
              "    </tr>\n",
              "    <tr>\n",
              "      <th>min</th>\n",
              "      <td>1.000001e+07</td>\n",
              "      <td>1.900000</td>\n",
              "      <td>15.600000</td>\n",
              "      <td>19.000000</td>\n",
              "      <td>1.000000</td>\n",
              "      <td>18.000000</td>\n",
              "      <td>2000.000000</td>\n",
              "      <td>-220.060000</td>\n",
              "      <td>-1.053000e+04</td>\n",
              "    </tr>\n",
              "    <tr>\n",
              "      <th>25%</th>\n",
              "      <td>1.011081e+07</td>\n",
              "      <td>12.000000</td>\n",
              "      <td>206.437500</td>\n",
              "      <td>151.200000</td>\n",
              "      <td>2705.000000</td>\n",
              "      <td>25.000000</td>\n",
              "      <td>8424.000000</td>\n",
              "      <td>28.012000</td>\n",
              "      <td>8.863321e-02</td>\n",
              "    </tr>\n",
              "    <tr>\n",
              "      <th>50%</th>\n",
              "      <td>1.022104e+07</td>\n",
              "      <td>22.440000</td>\n",
              "      <td>386.360000</td>\n",
              "      <td>282.480000</td>\n",
              "      <td>7459.000000</td>\n",
              "      <td>33.000000</td>\n",
              "      <td>14685.000000</td>\n",
              "      <td>81.962000</td>\n",
              "      <td>1.864359e-01</td>\n",
              "    </tr>\n",
              "    <tr>\n",
              "      <th>75%</th>\n",
              "      <td>1.033094e+07</td>\n",
              "      <td>32.960000</td>\n",
              "      <td>583.660000</td>\n",
              "      <td>413.683200</td>\n",
              "      <td>36078.000000</td>\n",
              "      <td>42.000000</td>\n",
              "      <td>21035.000000</td>\n",
              "      <td>190.030000</td>\n",
              "      <td>3.798302e-01</td>\n",
              "    </tr>\n",
              "    <tr>\n",
              "      <th>max</th>\n",
              "      <td>1.044011e+07</td>\n",
              "      <td>48.000000</td>\n",
              "      <td>2048.030000</td>\n",
              "      <td>691.200000</td>\n",
              "      <td>60000.000000</td>\n",
              "      <td>65.000000</td>\n",
              "      <td>35000.000000</td>\n",
              "      <td>1463.966000</td>\n",
              "      <td>inf</td>\n",
              "    </tr>\n",
              "  </tbody>\n",
              "</table>\n",
              "</div>"
            ],
            "text/plain": [
              "       Transaction ID   KM Travelled  ...         Profit     Profit/KM\n",
              "count    3.593920e+05  359392.000000  ...  359392.000000  3.593920e+05\n",
              "mean     1.022076e+07      22.567254  ...     137.253198           inf\n",
              "std      1.268058e+05      12.233526  ...     160.311840           NaN\n",
              "min      1.000001e+07       1.900000  ...    -220.060000 -1.053000e+04\n",
              "25%      1.011081e+07      12.000000  ...      28.012000  8.863321e-02\n",
              "50%      1.022104e+07      22.440000  ...      81.962000  1.864359e-01\n",
              "75%      1.033094e+07      32.960000  ...     190.030000  3.798302e-01\n",
              "max      1.044011e+07      48.000000  ...    1463.966000           inf\n",
              "\n",
              "[8 rows x 9 columns]"
            ]
          },
          "metadata": {
            "tags": []
          },
          "execution_count": 17
        }
      ]
    },
    {
      "cell_type": "code",
      "metadata": {
        "id": "q55Oxf4CjqHa"
      },
      "source": [
        ""
      ],
      "execution_count": 17,
      "outputs": []
    },
    {
      "cell_type": "code",
      "metadata": {
        "colab": {
          "base_uri": "https://localhost:8080/",
          "height": 606
        },
        "id": "onQLYDoRZmw3",
        "outputId": "8b0bee29-b8a8-4af6-fde6-92367d40428b"
      },
      "source": [
        "# filtering unique customers ...... For counting number of total customer per company \r\n",
        "unique_data=Data_merged.drop_duplicates(subset='Customer ID')\r\n",
        "unique_data"
      ],
      "execution_count": 18,
      "outputs": [
        {
          "output_type": "execute_result",
          "data": {
            "text/html": [
              "<div>\n",
              "<style scoped>\n",
              "    .dataframe tbody tr th:only-of-type {\n",
              "        vertical-align: middle;\n",
              "    }\n",
              "\n",
              "    .dataframe tbody tr th {\n",
              "        vertical-align: top;\n",
              "    }\n",
              "\n",
              "    .dataframe thead th {\n",
              "        text-align: right;\n",
              "    }\n",
              "</style>\n",
              "<table border=\"1\" class=\"dataframe\">\n",
              "  <thead>\n",
              "    <tr style=\"text-align: right;\">\n",
              "      <th></th>\n",
              "      <th>Transaction ID</th>\n",
              "      <th>Date of Travel</th>\n",
              "      <th>Company</th>\n",
              "      <th>City</th>\n",
              "      <th>KM Travelled</th>\n",
              "      <th>Price Charged</th>\n",
              "      <th>Cost of Trip</th>\n",
              "      <th>Customer ID</th>\n",
              "      <th>Payment_Mode</th>\n",
              "      <th>Gender</th>\n",
              "      <th>Age</th>\n",
              "      <th>Income (USD/Month)</th>\n",
              "      <th>Profit</th>\n",
              "      <th>Profit/KM</th>\n",
              "    </tr>\n",
              "  </thead>\n",
              "  <tbody>\n",
              "    <tr>\n",
              "      <th>0</th>\n",
              "      <td>10000013</td>\n",
              "      <td>2016-01-02</td>\n",
              "      <td>Pink Cab</td>\n",
              "      <td>ATLANTA GA</td>\n",
              "      <td>9.04</td>\n",
              "      <td>125.20</td>\n",
              "      <td>97.6320</td>\n",
              "      <td>28712</td>\n",
              "      <td>Cash</td>\n",
              "      <td>Male</td>\n",
              "      <td>53</td>\n",
              "      <td>11242</td>\n",
              "      <td>27.5680</td>\n",
              "      <td>0.327916</td>\n",
              "    </tr>\n",
              "    <tr>\n",
              "      <th>1</th>\n",
              "      <td>10000029</td>\n",
              "      <td>2016-01-02</td>\n",
              "      <td>Pink Cab</td>\n",
              "      <td>BOSTON MA</td>\n",
              "      <td>21.34</td>\n",
              "      <td>324.21</td>\n",
              "      <td>226.2040</td>\n",
              "      <td>58925</td>\n",
              "      <td>Card</td>\n",
              "      <td>Male</td>\n",
              "      <td>38</td>\n",
              "      <td>26550</td>\n",
              "      <td>98.0060</td>\n",
              "      <td>0.217742</td>\n",
              "    </tr>\n",
              "    <tr>\n",
              "      <th>2</th>\n",
              "      <td>10000030</td>\n",
              "      <td>2016-01-02</td>\n",
              "      <td>Pink Cab</td>\n",
              "      <td>BOSTON MA</td>\n",
              "      <td>41.30</td>\n",
              "      <td>646.06</td>\n",
              "      <td>454.3000</td>\n",
              "      <td>58551</td>\n",
              "      <td>Card</td>\n",
              "      <td>Male</td>\n",
              "      <td>25</td>\n",
              "      <td>21734</td>\n",
              "      <td>191.7600</td>\n",
              "      <td>0.215373</td>\n",
              "    </tr>\n",
              "    <tr>\n",
              "      <th>3</th>\n",
              "      <td>10000041</td>\n",
              "      <td>2016-01-02</td>\n",
              "      <td>Pink Cab</td>\n",
              "      <td>CHICAGO IL</td>\n",
              "      <td>35.02</td>\n",
              "      <td>598.43</td>\n",
              "      <td>406.2320</td>\n",
              "      <td>4289</td>\n",
              "      <td>Card</td>\n",
              "      <td>Male</td>\n",
              "      <td>19</td>\n",
              "      <td>28719</td>\n",
              "      <td>192.1980</td>\n",
              "      <td>0.182208</td>\n",
              "    </tr>\n",
              "    <tr>\n",
              "      <th>4</th>\n",
              "      <td>10000045</td>\n",
              "      <td>2016-01-02</td>\n",
              "      <td>Pink Cab</td>\n",
              "      <td>CHICAGO IL</td>\n",
              "      <td>3.24</td>\n",
              "      <td>48.04</td>\n",
              "      <td>33.6960</td>\n",
              "      <td>5734</td>\n",
              "      <td>Card</td>\n",
              "      <td>Male</td>\n",
              "      <td>23</td>\n",
              "      <td>22475</td>\n",
              "      <td>14.3440</td>\n",
              "      <td>0.225878</td>\n",
              "    </tr>\n",
              "    <tr>\n",
              "      <th>...</th>\n",
              "      <td>...</td>\n",
              "      <td>...</td>\n",
              "      <td>...</td>\n",
              "      <td>...</td>\n",
              "      <td>...</td>\n",
              "      <td>...</td>\n",
              "      <td>...</td>\n",
              "      <td>...</td>\n",
              "      <td>...</td>\n",
              "      <td>...</td>\n",
              "      <td>...</td>\n",
              "      <td>...</td>\n",
              "      <td>...</td>\n",
              "      <td>...</td>\n",
              "    </tr>\n",
              "    <tr>\n",
              "      <th>359271</th>\n",
              "      <td>10435915</td>\n",
              "      <td>2018-12-31</td>\n",
              "      <td>Yellow Cab</td>\n",
              "      <td>SACRAMENTO CA</td>\n",
              "      <td>27.14</td>\n",
              "      <td>374.95</td>\n",
              "      <td>377.7888</td>\n",
              "      <td>45644</td>\n",
              "      <td>Card</td>\n",
              "      <td>Male</td>\n",
              "      <td>28</td>\n",
              "      <td>23014</td>\n",
              "      <td>-2.8388</td>\n",
              "      <td>-9.560378</td>\n",
              "    </tr>\n",
              "    <tr>\n",
              "      <th>359375</th>\n",
              "      <td>10439393</td>\n",
              "      <td>2018-12-31</td>\n",
              "      <td>Yellow Cab</td>\n",
              "      <td>ORANGE COUNTY</td>\n",
              "      <td>24.78</td>\n",
              "      <td>379.42</td>\n",
              "      <td>347.9112</td>\n",
              "      <td>15270</td>\n",
              "      <td>Cash</td>\n",
              "      <td>Female</td>\n",
              "      <td>18</td>\n",
              "      <td>19636</td>\n",
              "      <td>31.5088</td>\n",
              "      <td>0.786447</td>\n",
              "    </tr>\n",
              "    <tr>\n",
              "      <th>359377</th>\n",
              "      <td>10439410</td>\n",
              "      <td>2018-12-31</td>\n",
              "      <td>Yellow Cab</td>\n",
              "      <td>PITTSBURGH PA</td>\n",
              "      <td>4.04</td>\n",
              "      <td>81.05</td>\n",
              "      <td>52.8432</td>\n",
              "      <td>50921</td>\n",
              "      <td>Card</td>\n",
              "      <td>Male</td>\n",
              "      <td>33</td>\n",
              "      <td>18698</td>\n",
              "      <td>28.2068</td>\n",
              "      <td>0.143228</td>\n",
              "    </tr>\n",
              "    <tr>\n",
              "      <th>359378</th>\n",
              "      <td>10439419</td>\n",
              "      <td>2018-12-31</td>\n",
              "      <td>Yellow Cab</td>\n",
              "      <td>SACRAMENTO CA</td>\n",
              "      <td>32.67</td>\n",
              "      <td>469.42</td>\n",
              "      <td>466.5276</td>\n",
              "      <td>46512</td>\n",
              "      <td>Cash</td>\n",
              "      <td>Male</td>\n",
              "      <td>20</td>\n",
              "      <td>16996</td>\n",
              "      <td>2.8924</td>\n",
              "      <td>11.295118</td>\n",
              "    </tr>\n",
              "    <tr>\n",
              "      <th>359380</th>\n",
              "      <td>10439766</td>\n",
              "      <td>2018-12-31</td>\n",
              "      <td>Yellow Cab</td>\n",
              "      <td>SEATTLE WA</td>\n",
              "      <td>21.42</td>\n",
              "      <td>342.33</td>\n",
              "      <td>275.0328</td>\n",
              "      <td>36141</td>\n",
              "      <td>Card</td>\n",
              "      <td>Female</td>\n",
              "      <td>21</td>\n",
              "      <td>14944</td>\n",
              "      <td>67.2972</td>\n",
              "      <td>0.318290</td>\n",
              "    </tr>\n",
              "  </tbody>\n",
              "</table>\n",
              "<p>46148 rows × 14 columns</p>\n",
              "</div>"
            ],
            "text/plain": [
              "        Transaction ID Date of Travel  ...    Profit  Profit/KM\n",
              "0             10000013     2016-01-02  ...   27.5680   0.327916\n",
              "1             10000029     2016-01-02  ...   98.0060   0.217742\n",
              "2             10000030     2016-01-02  ...  191.7600   0.215373\n",
              "3             10000041     2016-01-02  ...  192.1980   0.182208\n",
              "4             10000045     2016-01-02  ...   14.3440   0.225878\n",
              "...                ...            ...  ...       ...        ...\n",
              "359271        10435915     2018-12-31  ...   -2.8388  -9.560378\n",
              "359375        10439393     2018-12-31  ...   31.5088   0.786447\n",
              "359377        10439410     2018-12-31  ...   28.2068   0.143228\n",
              "359378        10439419     2018-12-31  ...    2.8924  11.295118\n",
              "359380        10439766     2018-12-31  ...   67.2972   0.318290\n",
              "\n",
              "[46148 rows x 14 columns]"
            ]
          },
          "metadata": {
            "tags": []
          },
          "execution_count": 18
        }
      ]
    },
    {
      "cell_type": "code",
      "metadata": {
        "colab": {
          "base_uri": "https://localhost:8080/",
          "height": 111
        },
        "id": "rvQvg5q0DUwS",
        "outputId": "8c74aacf-9861-43ce-e540-35682f13808d"
      },
      "source": [
        "customers_final= unique_data.groupby([\"Company\"]).size().reset_index(name=\"Number of Customers\")\r\n",
        "customers_final.head(20)"
      ],
      "execution_count": 43,
      "outputs": [
        {
          "output_type": "execute_result",
          "data": {
            "text/html": [
              "<div>\n",
              "<style scoped>\n",
              "    .dataframe tbody tr th:only-of-type {\n",
              "        vertical-align: middle;\n",
              "    }\n",
              "\n",
              "    .dataframe tbody tr th {\n",
              "        vertical-align: top;\n",
              "    }\n",
              "\n",
              "    .dataframe thead th {\n",
              "        text-align: right;\n",
              "    }\n",
              "</style>\n",
              "<table border=\"1\" class=\"dataframe\">\n",
              "  <thead>\n",
              "    <tr style=\"text-align: right;\">\n",
              "      <th></th>\n",
              "      <th>Company</th>\n",
              "      <th>Number of Customers</th>\n",
              "    </tr>\n",
              "  </thead>\n",
              "  <tbody>\n",
              "    <tr>\n",
              "      <th>0</th>\n",
              "      <td>Pink Cab</td>\n",
              "      <td>14716</td>\n",
              "    </tr>\n",
              "    <tr>\n",
              "      <th>1</th>\n",
              "      <td>Yellow Cab</td>\n",
              "      <td>31432</td>\n",
              "    </tr>\n",
              "  </tbody>\n",
              "</table>\n",
              "</div>"
            ],
            "text/plain": [
              "      Company  Number of Customers\n",
              "0    Pink Cab                14716\n",
              "1  Yellow Cab                31432"
            ]
          },
          "metadata": {
            "tags": []
          },
          "execution_count": 43
        }
      ]
    },
    {
      "cell_type": "code",
      "metadata": {
        "colab": {
          "base_uri": "https://localhost:8080/",
          "height": 669
        },
        "id": "PlncjJaDCi2x",
        "outputId": "1688a45b-d46f-4f8b-c0c8-4cd36bcde043"
      },
      "source": [
        "customers_city= unique_data.groupby([\"Company\", \"City\"]).size().reset_index(name=\"Number of Customers\")\r\n",
        "customers_city.head(20)"
      ],
      "execution_count": 20,
      "outputs": [
        {
          "output_type": "execute_result",
          "data": {
            "text/html": [
              "<div>\n",
              "<style scoped>\n",
              "    .dataframe tbody tr th:only-of-type {\n",
              "        vertical-align: middle;\n",
              "    }\n",
              "\n",
              "    .dataframe tbody tr th {\n",
              "        vertical-align: top;\n",
              "    }\n",
              "\n",
              "    .dataframe thead th {\n",
              "        text-align: right;\n",
              "    }\n",
              "</style>\n",
              "<table border=\"1\" class=\"dataframe\">\n",
              "  <thead>\n",
              "    <tr style=\"text-align: right;\">\n",
              "      <th></th>\n",
              "      <th>Company</th>\n",
              "      <th>City</th>\n",
              "      <th>Number of Customers</th>\n",
              "    </tr>\n",
              "  </thead>\n",
              "  <tbody>\n",
              "    <tr>\n",
              "      <th>0</th>\n",
              "      <td>Pink Cab</td>\n",
              "      <td>ATLANTA GA</td>\n",
              "      <td>619</td>\n",
              "    </tr>\n",
              "    <tr>\n",
              "      <th>1</th>\n",
              "      <td>Pink Cab</td>\n",
              "      <td>AUSTIN TX</td>\n",
              "      <td>921</td>\n",
              "    </tr>\n",
              "    <tr>\n",
              "      <th>2</th>\n",
              "      <td>Pink Cab</td>\n",
              "      <td>BOSTON MA</td>\n",
              "      <td>444</td>\n",
              "    </tr>\n",
              "    <tr>\n",
              "      <th>3</th>\n",
              "      <td>Pink Cab</td>\n",
              "      <td>CHICAGO IL</td>\n",
              "      <td>437</td>\n",
              "    </tr>\n",
              "    <tr>\n",
              "      <th>4</th>\n",
              "      <td>Pink Cab</td>\n",
              "      <td>DALLAS TX</td>\n",
              "      <td>552</td>\n",
              "    </tr>\n",
              "    <tr>\n",
              "      <th>5</th>\n",
              "      <td>Pink Cab</td>\n",
              "      <td>DENVER CO</td>\n",
              "      <td>784</td>\n",
              "    </tr>\n",
              "    <tr>\n",
              "      <th>6</th>\n",
              "      <td>Pink Cab</td>\n",
              "      <td>LOS ANGELES CA</td>\n",
              "      <td>1139</td>\n",
              "    </tr>\n",
              "    <tr>\n",
              "      <th>7</th>\n",
              "      <td>Pink Cab</td>\n",
              "      <td>MIAMI FL</td>\n",
              "      <td>875</td>\n",
              "    </tr>\n",
              "    <tr>\n",
              "      <th>8</th>\n",
              "      <td>Pink Cab</td>\n",
              "      <td>NASHVILLE TN</td>\n",
              "      <td>1129</td>\n",
              "    </tr>\n",
              "    <tr>\n",
              "      <th>9</th>\n",
              "      <td>Pink Cab</td>\n",
              "      <td>NEW YORK NY</td>\n",
              "      <td>259</td>\n",
              "    </tr>\n",
              "    <tr>\n",
              "      <th>10</th>\n",
              "      <td>Pink Cab</td>\n",
              "      <td>ORANGE COUNTY</td>\n",
              "      <td>843</td>\n",
              "    </tr>\n",
              "    <tr>\n",
              "      <th>11</th>\n",
              "      <td>Pink Cab</td>\n",
              "      <td>PHOENIX AZ</td>\n",
              "      <td>646</td>\n",
              "    </tr>\n",
              "    <tr>\n",
              "      <th>12</th>\n",
              "      <td>Pink Cab</td>\n",
              "      <td>PITTSBURGH PA</td>\n",
              "      <td>544</td>\n",
              "    </tr>\n",
              "    <tr>\n",
              "      <th>13</th>\n",
              "      <td>Pink Cab</td>\n",
              "      <td>SACRAMENTO CA</td>\n",
              "      <td>923</td>\n",
              "    </tr>\n",
              "    <tr>\n",
              "      <th>14</th>\n",
              "      <td>Pink Cab</td>\n",
              "      <td>SAN DIEGO CA</td>\n",
              "      <td>1570</td>\n",
              "    </tr>\n",
              "    <tr>\n",
              "      <th>15</th>\n",
              "      <td>Pink Cab</td>\n",
              "      <td>SEATTLE WA</td>\n",
              "      <td>979</td>\n",
              "    </tr>\n",
              "    <tr>\n",
              "      <th>16</th>\n",
              "      <td>Pink Cab</td>\n",
              "      <td>SILICON VALLEY</td>\n",
              "      <td>1258</td>\n",
              "    </tr>\n",
              "    <tr>\n",
              "      <th>17</th>\n",
              "      <td>Pink Cab</td>\n",
              "      <td>TUCSON AZ</td>\n",
              "      <td>576</td>\n",
              "    </tr>\n",
              "    <tr>\n",
              "      <th>18</th>\n",
              "      <td>Pink Cab</td>\n",
              "      <td>WASHINGTON DC</td>\n",
              "      <td>218</td>\n",
              "    </tr>\n",
              "    <tr>\n",
              "      <th>19</th>\n",
              "      <td>Yellow Cab</td>\n",
              "      <td>ATLANTA GA</td>\n",
              "      <td>2161</td>\n",
              "    </tr>\n",
              "  </tbody>\n",
              "</table>\n",
              "</div>"
            ],
            "text/plain": [
              "       Company            City  Number of Customers\n",
              "0     Pink Cab      ATLANTA GA                  619\n",
              "1     Pink Cab       AUSTIN TX                  921\n",
              "2     Pink Cab       BOSTON MA                  444\n",
              "3     Pink Cab      CHICAGO IL                  437\n",
              "4     Pink Cab       DALLAS TX                  552\n",
              "5     Pink Cab       DENVER CO                  784\n",
              "6     Pink Cab  LOS ANGELES CA                 1139\n",
              "7     Pink Cab        MIAMI FL                  875\n",
              "8     Pink Cab    NASHVILLE TN                 1129\n",
              "9     Pink Cab     NEW YORK NY                  259\n",
              "10    Pink Cab   ORANGE COUNTY                  843\n",
              "11    Pink Cab      PHOENIX AZ                  646\n",
              "12    Pink Cab   PITTSBURGH PA                  544\n",
              "13    Pink Cab   SACRAMENTO CA                  923\n",
              "14    Pink Cab    SAN DIEGO CA                 1570\n",
              "15    Pink Cab      SEATTLE WA                  979\n",
              "16    Pink Cab  SILICON VALLEY                 1258\n",
              "17    Pink Cab       TUCSON AZ                  576\n",
              "18    Pink Cab   WASHINGTON DC                  218\n",
              "19  Yellow Cab      ATLANTA GA                 2161"
            ]
          },
          "metadata": {
            "tags": []
          },
          "execution_count": 20
        }
      ]
    },
    {
      "cell_type": "code",
      "metadata": {
        "id": "Sg53XtrmREaJ"
      },
      "source": [
        "# calculating yearly profit \r\n",
        "\r\n",
        "yearly=Data_merged.groupby(['Company'])\r\n",
        "yearly_data = yearly.resample('Y', on='Date of Travel').sum()\r\n"
      ],
      "execution_count": 21,
      "outputs": []
    },
    {
      "cell_type": "code",
      "metadata": {
        "id": "N7EMHNeLTiaW"
      },
      "source": [
        ""
      ],
      "execution_count": 21,
      "outputs": []
    },
    {
      "cell_type": "code",
      "metadata": {
        "id": "2VNa3EtCFV1z"
      },
      "source": [
        "yearly_data.reset_index(inplace=True)"
      ],
      "execution_count": 22,
      "outputs": []
    },
    {
      "cell_type": "code",
      "metadata": {
        "id": "g3AdZ--d4-wo"
      },
      "source": [
        "yearly_data['Profit/KM']=yearly_data['KM Travelled']/yearly_data['Profit']"
      ],
      "execution_count": 23,
      "outputs": []
    },
    {
      "cell_type": "code",
      "metadata": {
        "colab": {
          "base_uri": "https://localhost:8080/",
          "height": 204
        },
        "id": "jhIaQprYR8_A",
        "outputId": "cac2e1d0-3010-4d6f-e699-c15a2e023c8d"
      },
      "source": [
        "yearly_data.head()"
      ],
      "execution_count": 24,
      "outputs": [
        {
          "output_type": "execute_result",
          "data": {
            "text/html": [
              "<div>\n",
              "<style scoped>\n",
              "    .dataframe tbody tr th:only-of-type {\n",
              "        vertical-align: middle;\n",
              "    }\n",
              "\n",
              "    .dataframe tbody tr th {\n",
              "        vertical-align: top;\n",
              "    }\n",
              "\n",
              "    .dataframe thead th {\n",
              "        text-align: right;\n",
              "    }\n",
              "</style>\n",
              "<table border=\"1\" class=\"dataframe\">\n",
              "  <thead>\n",
              "    <tr style=\"text-align: right;\">\n",
              "      <th></th>\n",
              "      <th>Company</th>\n",
              "      <th>Date of Travel</th>\n",
              "      <th>Transaction ID</th>\n",
              "      <th>KM Travelled</th>\n",
              "      <th>Price Charged</th>\n",
              "      <th>Cost of Trip</th>\n",
              "      <th>Customer ID</th>\n",
              "      <th>Age</th>\n",
              "      <th>Income (USD/Month)</th>\n",
              "      <th>Profit</th>\n",
              "      <th>Profit/KM</th>\n",
              "    </tr>\n",
              "  </thead>\n",
              "  <tbody>\n",
              "    <tr>\n",
              "      <th>0</th>\n",
              "      <td>Pink Cab</td>\n",
              "      <td>2016-12-31</td>\n",
              "      <td>252535636696</td>\n",
              "      <td>563509.67</td>\n",
              "      <td>7908479.23</td>\n",
              "      <td>6.194968e+06</td>\n",
              "      <td>463403433</td>\n",
              "      <td>888288</td>\n",
              "      <td>379315979</td>\n",
              "      <td>1.713511e+06</td>\n",
              "      <td>0.328863</td>\n",
              "    </tr>\n",
              "    <tr>\n",
              "      <th>1</th>\n",
              "      <td>Pink Cab</td>\n",
              "      <td>2017-12-31</td>\n",
              "      <td>309686779295</td>\n",
              "      <td>685823.52</td>\n",
              "      <td>9578629.54</td>\n",
              "      <td>7.544975e+06</td>\n",
              "      <td>557353174</td>\n",
              "      <td>1068211</td>\n",
              "      <td>456597545</td>\n",
              "      <td>2.033655e+06</td>\n",
              "      <td>0.337237</td>\n",
              "    </tr>\n",
              "    <tr>\n",
              "      <th>2</th>\n",
              "      <td>Pink Cab</td>\n",
              "      <td>2018-12-31</td>\n",
              "      <td>303857614588</td>\n",
              "      <td>661739.92</td>\n",
              "      <td>8841142.56</td>\n",
              "      <td>7.280980e+06</td>\n",
              "      <td>539838701</td>\n",
              "      <td>1035698</td>\n",
              "      <td>439753418</td>\n",
              "      <td>1.560162e+06</td>\n",
              "      <td>0.424148</td>\n",
              "    </tr>\n",
              "    <tr>\n",
              "      <th>3</th>\n",
              "      <td>Yellow Cab</td>\n",
              "      <td>2016-12-31</td>\n",
              "      <td>827819816122</td>\n",
              "      <td>1859978.21</td>\n",
              "      <td>38481133.18</td>\n",
              "      <td>2.455414e+07</td>\n",
              "      <td>1610040758</td>\n",
              "      <td>2906889</td>\n",
              "      <td>1236415247</td>\n",
              "      <td>1.392700e+07</td>\n",
              "      <td>0.133552</td>\n",
              "    </tr>\n",
              "    <tr>\n",
              "      <th>4</th>\n",
              "      <td>Yellow Cab</td>\n",
              "      <td>2017-12-31</td>\n",
              "      <td>1002496699291</td>\n",
              "      <td>2214879.02</td>\n",
              "      <td>45818910.04</td>\n",
              "      <td>2.924293e+07</td>\n",
              "      <td>1896676773</td>\n",
              "      <td>3469250</td>\n",
              "      <td>1479620741</td>\n",
              "      <td>1.657598e+07</td>\n",
              "      <td>0.133620</td>\n",
              "    </tr>\n",
              "  </tbody>\n",
              "</table>\n",
              "</div>"
            ],
            "text/plain": [
              "      Company Date of Travel  ...        Profit  Profit/KM\n",
              "0    Pink Cab     2016-12-31  ...  1.713511e+06   0.328863\n",
              "1    Pink Cab     2017-12-31  ...  2.033655e+06   0.337237\n",
              "2    Pink Cab     2018-12-31  ...  1.560162e+06   0.424148\n",
              "3  Yellow Cab     2016-12-31  ...  1.392700e+07   0.133552\n",
              "4  Yellow Cab     2017-12-31  ...  1.657598e+07   0.133620\n",
              "\n",
              "[5 rows x 11 columns]"
            ]
          },
          "metadata": {
            "tags": []
          },
          "execution_count": 24
        }
      ]
    },
    {
      "cell_type": "code",
      "metadata": {
        "id": "hYIiY_RUUaQL"
      },
      "source": [
        "# monthly profit\r\n",
        "\r\n",
        "monthly=Data_merged.groupby(['Company'])\r\n",
        "monthly_data = monthly.resample('M', on='Date of Travel').sum()\r\n",
        "monthly_data.reset_index(inplace=True)\r\n"
      ],
      "execution_count": 25,
      "outputs": []
    },
    {
      "cell_type": "code",
      "metadata": {
        "colab": {
          "base_uri": "https://localhost:8080/",
          "height": 204
        },
        "id": "XpjmOuCSUi15",
        "outputId": "228904bc-de3f-4d5d-e748-71541587f3c1"
      },
      "source": [
        "monthly_data.head()"
      ],
      "execution_count": 26,
      "outputs": [
        {
          "output_type": "execute_result",
          "data": {
            "text/html": [
              "<div>\n",
              "<style scoped>\n",
              "    .dataframe tbody tr th:only-of-type {\n",
              "        vertical-align: middle;\n",
              "    }\n",
              "\n",
              "    .dataframe tbody tr th {\n",
              "        vertical-align: top;\n",
              "    }\n",
              "\n",
              "    .dataframe thead th {\n",
              "        text-align: right;\n",
              "    }\n",
              "</style>\n",
              "<table border=\"1\" class=\"dataframe\">\n",
              "  <thead>\n",
              "    <tr style=\"text-align: right;\">\n",
              "      <th></th>\n",
              "      <th>Company</th>\n",
              "      <th>Date of Travel</th>\n",
              "      <th>Transaction ID</th>\n",
              "      <th>KM Travelled</th>\n",
              "      <th>Price Charged</th>\n",
              "      <th>Cost of Trip</th>\n",
              "      <th>Customer ID</th>\n",
              "      <th>Age</th>\n",
              "      <th>Income (USD/Month)</th>\n",
              "      <th>Profit</th>\n",
              "      <th>Profit/KM</th>\n",
              "    </tr>\n",
              "  </thead>\n",
              "  <tbody>\n",
              "    <tr>\n",
              "      <th>0</th>\n",
              "      <td>Pink Cab</td>\n",
              "      <td>2016-01-31</td>\n",
              "      <td>9272171231</td>\n",
              "      <td>21018.83</td>\n",
              "      <td>305236.77</td>\n",
              "      <td>231283.907</td>\n",
              "      <td>18750545</td>\n",
              "      <td>32932</td>\n",
              "      <td>13969034</td>\n",
              "      <td>73952.863</td>\n",
              "      <td>191.137647</td>\n",
              "    </tr>\n",
              "    <tr>\n",
              "      <th>1</th>\n",
              "      <td>Pink Cab</td>\n",
              "      <td>2016-02-29</td>\n",
              "      <td>10509444482</td>\n",
              "      <td>23419.84</td>\n",
              "      <td>344521.86</td>\n",
              "      <td>257046.316</td>\n",
              "      <td>21567399</td>\n",
              "      <td>37600</td>\n",
              "      <td>16122853</td>\n",
              "      <td>87475.544</td>\n",
              "      <td>1506.066540</td>\n",
              "    </tr>\n",
              "    <tr>\n",
              "      <th>2</th>\n",
              "      <td>Pink Cab</td>\n",
              "      <td>2016-03-31</td>\n",
              "      <td>12330432872</td>\n",
              "      <td>27893.78</td>\n",
              "      <td>394890.37</td>\n",
              "      <td>307089.187</td>\n",
              "      <td>24388224</td>\n",
              "      <td>42890</td>\n",
              "      <td>18755211</td>\n",
              "      <td>87801.183</td>\n",
              "      <td>39.051419</td>\n",
              "    </tr>\n",
              "    <tr>\n",
              "      <th>3</th>\n",
              "      <td>Pink Cab</td>\n",
              "      <td>2016-04-30</td>\n",
              "      <td>12430759350</td>\n",
              "      <td>27357.38</td>\n",
              "      <td>383077.51</td>\n",
              "      <td>300485.657</td>\n",
              "      <td>25684634</td>\n",
              "      <td>44092</td>\n",
              "      <td>18698766</td>\n",
              "      <td>82591.853</td>\n",
              "      <td>780.147652</td>\n",
              "    </tr>\n",
              "    <tr>\n",
              "      <th>4</th>\n",
              "      <td>Pink Cab</td>\n",
              "      <td>2016-05-31</td>\n",
              "      <td>15722648860</td>\n",
              "      <td>35137.83</td>\n",
              "      <td>447231.76</td>\n",
              "      <td>385680.802</td>\n",
              "      <td>29974449</td>\n",
              "      <td>54936</td>\n",
              "      <td>23825602</td>\n",
              "      <td>61550.958</td>\n",
              "      <td>4586.505891</td>\n",
              "    </tr>\n",
              "  </tbody>\n",
              "</table>\n",
              "</div>"
            ],
            "text/plain": [
              "    Company Date of Travel  ...     Profit    Profit/KM\n",
              "0  Pink Cab     2016-01-31  ...  73952.863   191.137647\n",
              "1  Pink Cab     2016-02-29  ...  87475.544  1506.066540\n",
              "2  Pink Cab     2016-03-31  ...  87801.183    39.051419\n",
              "3  Pink Cab     2016-04-30  ...  82591.853   780.147652\n",
              "4  Pink Cab     2016-05-31  ...  61550.958  4586.505891\n",
              "\n",
              "[5 rows x 11 columns]"
            ]
          },
          "metadata": {
            "tags": []
          },
          "execution_count": 26
        }
      ]
    },
    {
      "cell_type": "code",
      "metadata": {
        "id": "ow1za-WpUi8y"
      },
      "source": [
        ""
      ],
      "execution_count": 26,
      "outputs": []
    },
    {
      "cell_type": "code",
      "metadata": {
        "colab": {
          "base_uri": "https://localhost:8080/",
          "height": 176
        },
        "id": "6VV07TLa4KId",
        "outputId": "58bbbf95-f15e-44be-ee20-1a602291d57c"
      },
      "source": [
        "# just a test to see if the code work for counting no. of rides \r\n",
        "Data_merged.groupby(['Company']).count()\r\n",
        " # that should be added to df that has summary of both cab "
      ],
      "execution_count": 27,
      "outputs": [
        {
          "output_type": "execute_result",
          "data": {
            "text/html": [
              "<div>\n",
              "<style scoped>\n",
              "    .dataframe tbody tr th:only-of-type {\n",
              "        vertical-align: middle;\n",
              "    }\n",
              "\n",
              "    .dataframe tbody tr th {\n",
              "        vertical-align: top;\n",
              "    }\n",
              "\n",
              "    .dataframe thead th {\n",
              "        text-align: right;\n",
              "    }\n",
              "</style>\n",
              "<table border=\"1\" class=\"dataframe\">\n",
              "  <thead>\n",
              "    <tr style=\"text-align: right;\">\n",
              "      <th></th>\n",
              "      <th>Transaction ID</th>\n",
              "      <th>Date of Travel</th>\n",
              "      <th>City</th>\n",
              "      <th>KM Travelled</th>\n",
              "      <th>Price Charged</th>\n",
              "      <th>Cost of Trip</th>\n",
              "      <th>Customer ID</th>\n",
              "      <th>Payment_Mode</th>\n",
              "      <th>Gender</th>\n",
              "      <th>Age</th>\n",
              "      <th>Income (USD/Month)</th>\n",
              "      <th>Profit</th>\n",
              "      <th>Profit/KM</th>\n",
              "    </tr>\n",
              "    <tr>\n",
              "      <th>Company</th>\n",
              "      <th></th>\n",
              "      <th></th>\n",
              "      <th></th>\n",
              "      <th></th>\n",
              "      <th></th>\n",
              "      <th></th>\n",
              "      <th></th>\n",
              "      <th></th>\n",
              "      <th></th>\n",
              "      <th></th>\n",
              "      <th></th>\n",
              "      <th></th>\n",
              "      <th></th>\n",
              "    </tr>\n",
              "  </thead>\n",
              "  <tbody>\n",
              "    <tr>\n",
              "      <th>Pink Cab</th>\n",
              "      <td>84711</td>\n",
              "      <td>84711</td>\n",
              "      <td>84711</td>\n",
              "      <td>84711</td>\n",
              "      <td>84711</td>\n",
              "      <td>84711</td>\n",
              "      <td>84711</td>\n",
              "      <td>84711</td>\n",
              "      <td>84711</td>\n",
              "      <td>84711</td>\n",
              "      <td>84711</td>\n",
              "      <td>84711</td>\n",
              "      <td>84711</td>\n",
              "    </tr>\n",
              "    <tr>\n",
              "      <th>Yellow Cab</th>\n",
              "      <td>274681</td>\n",
              "      <td>274681</td>\n",
              "      <td>274681</td>\n",
              "      <td>274681</td>\n",
              "      <td>274681</td>\n",
              "      <td>274681</td>\n",
              "      <td>274681</td>\n",
              "      <td>274681</td>\n",
              "      <td>274681</td>\n",
              "      <td>274681</td>\n",
              "      <td>274681</td>\n",
              "      <td>274681</td>\n",
              "      <td>274681</td>\n",
              "    </tr>\n",
              "  </tbody>\n",
              "</table>\n",
              "</div>"
            ],
            "text/plain": [
              "            Transaction ID  Date of Travel  ...  Profit  Profit/KM\n",
              "Company                                     ...                   \n",
              "Pink Cab             84711           84711  ...   84711      84711\n",
              "Yellow Cab          274681          274681  ...  274681     274681\n",
              "\n",
              "[2 rows x 13 columns]"
            ]
          },
          "metadata": {
            "tags": []
          },
          "execution_count": 27
        }
      ]
    },
    {
      "cell_type": "code",
      "metadata": {
        "colab": {
          "base_uri": "https://localhost:8080/",
          "height": 142
        },
        "id": "IWAbMVGpsv8C",
        "outputId": "627f8450-509c-4a38-b701-2000237e68ac"
      },
      "source": [
        "total_profit= Data_merged.groupby(['Company']).sum()\r\n",
        "\r\n",
        "total_profit.head()"
      ],
      "execution_count": 28,
      "outputs": [
        {
          "output_type": "execute_result",
          "data": {
            "text/html": [
              "<div>\n",
              "<style scoped>\n",
              "    .dataframe tbody tr th:only-of-type {\n",
              "        vertical-align: middle;\n",
              "    }\n",
              "\n",
              "    .dataframe tbody tr th {\n",
              "        vertical-align: top;\n",
              "    }\n",
              "\n",
              "    .dataframe thead th {\n",
              "        text-align: right;\n",
              "    }\n",
              "</style>\n",
              "<table border=\"1\" class=\"dataframe\">\n",
              "  <thead>\n",
              "    <tr style=\"text-align: right;\">\n",
              "      <th></th>\n",
              "      <th>Transaction ID</th>\n",
              "      <th>KM Travelled</th>\n",
              "      <th>Price Charged</th>\n",
              "      <th>Cost of Trip</th>\n",
              "      <th>Customer ID</th>\n",
              "      <th>Age</th>\n",
              "      <th>Income (USD/Month)</th>\n",
              "      <th>Profit</th>\n",
              "      <th>Profit/KM</th>\n",
              "    </tr>\n",
              "    <tr>\n",
              "      <th>Company</th>\n",
              "      <th></th>\n",
              "      <th></th>\n",
              "      <th></th>\n",
              "      <th></th>\n",
              "      <th></th>\n",
              "      <th></th>\n",
              "      <th></th>\n",
              "      <th></th>\n",
              "      <th></th>\n",
              "    </tr>\n",
              "  </thead>\n",
              "  <tbody>\n",
              "    <tr>\n",
              "      <th>Pink Cab</th>\n",
              "      <td>866080030579</td>\n",
              "      <td>1911073.11</td>\n",
              "      <td>2.632825e+07</td>\n",
              "      <td>2.102092e+07</td>\n",
              "      <td>1560595308</td>\n",
              "      <td>2992197</td>\n",
              "      <td>1275666942</td>\n",
              "      <td>5.307328e+06</td>\n",
              "      <td>inf</td>\n",
              "    </tr>\n",
              "    <tr>\n",
              "      <th>Yellow Cab</th>\n",
              "      <td>2807179773351</td>\n",
              "      <td>6199417.47</td>\n",
              "      <td>1.258539e+08</td>\n",
              "      <td>8.183351e+07</td>\n",
              "      <td>5336730929</td>\n",
              "      <td>9707532</td>\n",
              "      <td>4132759631</td>\n",
              "      <td>4.402037e+07</td>\n",
              "      <td>inf</td>\n",
              "    </tr>\n",
              "  </tbody>\n",
              "</table>\n",
              "</div>"
            ],
            "text/plain": [
              "            Transaction ID  KM Travelled  ...        Profit  Profit/KM\n",
              "Company                                   ...                         \n",
              "Pink Cab      866080030579    1911073.11  ...  5.307328e+06        inf\n",
              "Yellow Cab   2807179773351    6199417.47  ...  4.402037e+07        inf\n",
              "\n",
              "[2 rows x 9 columns]"
            ]
          },
          "metadata": {
            "tags": []
          },
          "execution_count": 28
        }
      ]
    },
    {
      "cell_type": "code",
      "metadata": {
        "colab": {
          "base_uri": "https://localhost:8080/",
          "height": 142
        },
        "id": "4yoSOAYxvO-b",
        "outputId": "8c367b8d-9d70-44cb-abbf-155ed20a7f28"
      },
      "source": [
        "pd.set_option('display.float_format', lambda x: '%.5f' % x)\r\n",
        "total_profit['total_rides']=Data_merged.groupby(['Company']).count()['Transaction ID']\r\n",
        "total_profit.head()"
      ],
      "execution_count": 29,
      "outputs": [
        {
          "output_type": "execute_result",
          "data": {
            "text/html": [
              "<div>\n",
              "<style scoped>\n",
              "    .dataframe tbody tr th:only-of-type {\n",
              "        vertical-align: middle;\n",
              "    }\n",
              "\n",
              "    .dataframe tbody tr th {\n",
              "        vertical-align: top;\n",
              "    }\n",
              "\n",
              "    .dataframe thead th {\n",
              "        text-align: right;\n",
              "    }\n",
              "</style>\n",
              "<table border=\"1\" class=\"dataframe\">\n",
              "  <thead>\n",
              "    <tr style=\"text-align: right;\">\n",
              "      <th></th>\n",
              "      <th>Transaction ID</th>\n",
              "      <th>KM Travelled</th>\n",
              "      <th>Price Charged</th>\n",
              "      <th>Cost of Trip</th>\n",
              "      <th>Customer ID</th>\n",
              "      <th>Age</th>\n",
              "      <th>Income (USD/Month)</th>\n",
              "      <th>Profit</th>\n",
              "      <th>Profit/KM</th>\n",
              "      <th>total_rides</th>\n",
              "    </tr>\n",
              "    <tr>\n",
              "      <th>Company</th>\n",
              "      <th></th>\n",
              "      <th></th>\n",
              "      <th></th>\n",
              "      <th></th>\n",
              "      <th></th>\n",
              "      <th></th>\n",
              "      <th></th>\n",
              "      <th></th>\n",
              "      <th></th>\n",
              "      <th></th>\n",
              "    </tr>\n",
              "  </thead>\n",
              "  <tbody>\n",
              "    <tr>\n",
              "      <th>Pink Cab</th>\n",
              "      <td>866080030579</td>\n",
              "      <td>1911073.11000</td>\n",
              "      <td>26328251.33000</td>\n",
              "      <td>21020923.00900</td>\n",
              "      <td>1560595308</td>\n",
              "      <td>2992197</td>\n",
              "      <td>1275666942</td>\n",
              "      <td>5307328.32100</td>\n",
              "      <td>inf</td>\n",
              "      <td>84711</td>\n",
              "    </tr>\n",
              "    <tr>\n",
              "      <th>Yellow Cab</th>\n",
              "      <td>2807179773351</td>\n",
              "      <td>6199417.47000</td>\n",
              "      <td>125853887.19000</td>\n",
              "      <td>81833514.01920</td>\n",
              "      <td>5336730929</td>\n",
              "      <td>9707532</td>\n",
              "      <td>4132759631</td>\n",
              "      <td>44020373.17080</td>\n",
              "      <td>inf</td>\n",
              "      <td>274681</td>\n",
              "    </tr>\n",
              "  </tbody>\n",
              "</table>\n",
              "</div>"
            ],
            "text/plain": [
              "            Transaction ID  KM Travelled  ...  Profit/KM  total_rides\n",
              "Company                                   ...                        \n",
              "Pink Cab      866080030579 1911073.11000  ...        inf        84711\n",
              "Yellow Cab   2807179773351 6199417.47000  ...        inf       274681\n",
              "\n",
              "[2 rows x 10 columns]"
            ]
          },
          "metadata": {
            "tags": []
          },
          "execution_count": 29
        }
      ]
    },
    {
      "cell_type": "code",
      "metadata": {
        "colab": {
          "base_uri": "https://localhost:8080/",
          "height": 142
        },
        "id": "27gbDKd0WWWO",
        "outputId": "0abca842-fca7-4230-f228-6bff41977271"
      },
      "source": [
        "# drop columns \r\n",
        "# add profit per ride\r\n",
        "total_profit= total_profit.drop(['Transaction ID','Income (USD/Month)','Customer ID','Age'],axis=1)\r\n",
        "total_profit['Profit/Ride']=(total_profit['Profit'])/total_profit['total_rides']\r\n",
        "total_profit['Profit/KM']=(total_profit['Profit'])/total_profit['KM Travelled']\r\n",
        "total_profit.head()"
      ],
      "execution_count": 30,
      "outputs": [
        {
          "output_type": "execute_result",
          "data": {
            "text/html": [
              "<div>\n",
              "<style scoped>\n",
              "    .dataframe tbody tr th:only-of-type {\n",
              "        vertical-align: middle;\n",
              "    }\n",
              "\n",
              "    .dataframe tbody tr th {\n",
              "        vertical-align: top;\n",
              "    }\n",
              "\n",
              "    .dataframe thead th {\n",
              "        text-align: right;\n",
              "    }\n",
              "</style>\n",
              "<table border=\"1\" class=\"dataframe\">\n",
              "  <thead>\n",
              "    <tr style=\"text-align: right;\">\n",
              "      <th></th>\n",
              "      <th>KM Travelled</th>\n",
              "      <th>Price Charged</th>\n",
              "      <th>Cost of Trip</th>\n",
              "      <th>Profit</th>\n",
              "      <th>Profit/KM</th>\n",
              "      <th>total_rides</th>\n",
              "      <th>Profit/Ride</th>\n",
              "    </tr>\n",
              "    <tr>\n",
              "      <th>Company</th>\n",
              "      <th></th>\n",
              "      <th></th>\n",
              "      <th></th>\n",
              "      <th></th>\n",
              "      <th></th>\n",
              "      <th></th>\n",
              "      <th></th>\n",
              "    </tr>\n",
              "  </thead>\n",
              "  <tbody>\n",
              "    <tr>\n",
              "      <th>Pink Cab</th>\n",
              "      <td>1911073.11000</td>\n",
              "      <td>26328251.33000</td>\n",
              "      <td>21020923.00900</td>\n",
              "      <td>5307328.32100</td>\n",
              "      <td>2.77715</td>\n",
              "      <td>84711</td>\n",
              "      <td>62.65217</td>\n",
              "    </tr>\n",
              "    <tr>\n",
              "      <th>Yellow Cab</th>\n",
              "      <td>6199417.47000</td>\n",
              "      <td>125853887.19000</td>\n",
              "      <td>81833514.01920</td>\n",
              "      <td>44020373.17080</td>\n",
              "      <td>7.10073</td>\n",
              "      <td>274681</td>\n",
              "      <td>160.25999</td>\n",
              "    </tr>\n",
              "  </tbody>\n",
              "</table>\n",
              "</div>"
            ],
            "text/plain": [
              "            KM Travelled   Price Charged  ...  total_rides  Profit/Ride\n",
              "Company                                   ...                          \n",
              "Pink Cab   1911073.11000  26328251.33000  ...        84711     62.65217\n",
              "Yellow Cab 6199417.47000 125853887.19000  ...       274681    160.25999\n",
              "\n",
              "[2 rows x 7 columns]"
            ]
          },
          "metadata": {
            "tags": []
          },
          "execution_count": 30
        }
      ]
    },
    {
      "cell_type": "code",
      "metadata": {
        "id": "z3W4FJzPUbKl"
      },
      "source": [
        ""
      ],
      "execution_count": 30,
      "outputs": []
    },
    {
      "cell_type": "code",
      "metadata": {
        "id": "tpf8lRnoTstx"
      },
      "source": [
        ""
      ],
      "execution_count": 30,
      "outputs": []
    },
    {
      "cell_type": "code",
      "metadata": {
        "colab": {
          "base_uri": "https://localhost:8080/",
          "height": 409
        },
        "id": "UvViLWMQJWcR",
        "outputId": "bcb4f2c7-2b23-475c-9c5f-6442ae629b5d"
      },
      "source": [
        "# count plot of gender\r\n",
        "fig1 = sns.catplot(x='Gender', kind=\"count\", data=Data_merged)\r\n",
        "fig1.set_xticklabels(rotation=90)\r\n",
        "plt.show()\r\n"
      ],
      "execution_count": 31,
      "outputs": [
        {
          "output_type": "display_data",
          "data": {
            "image/png": "[encoded data removed]",
            "text/plain": [
              "<Figure size 360x360 with 1 Axes>"
            ]
          },
          "metadata": {
            "tags": [],
            "needs_background": "light"
          }
        }
      ]
    },
    {
      "cell_type": "code",
      "metadata": {
        "id": "d3LKUuiOJWgD",
        "colab": {
          "base_uri": "https://localhost:8080/",
          "height": 399
        },
        "outputId": "19c283a4-5137-49b7-cff1-72ee9a812b3c"
      },
      "source": [
        "# count plot of payment mode\r\n",
        "\r\n",
        "fig2 = sns.catplot(x='Payment_Mode', kind=\"count\", data=Data_merged)\r\n",
        "fig2.set_xticklabels(rotation=90)\r\n",
        "plt.show()"
      ],
      "execution_count": 32,
      "outputs": [
        {
          "output_type": "display_data",
          "data": {
            "image/png": "[encoded data removed]",
            "text/plain": [
              "<Figure size 360x360 with 1 Axes>"
            ]
          },
          "metadata": {
            "tags": [],
            "needs_background": "light"
          }
        }
      ]
    },
    {
      "cell_type": "code",
      "metadata": {
        "id": "XRfzhC9sJf0e"
      },
      "source": [
        ""
      ],
      "execution_count": 32,
      "outputs": []
    },
    {
      "cell_type": "code",
      "metadata": {
        "id": "Ug9OVIJfJf3y",
        "colab": {
          "base_uri": "https://localhost:8080/",
          "height": 399
        },
        "outputId": "39498593-ad47-4eb6-f771-1c9674c9c312"
      },
      "source": [
        "plt.figure(figsize=(16, 6))\r\n",
        "fig3 = sns.lineplot(x='Date of Travel', y=\"Profit\",hue=yearly_data['Company'],data=yearly_data)\r\n",
        "#fig3.set(xscale=\"log\")\r\n",
        "#fig3.set_xticklabels(fig3.get_xticklabels(),rotation=45)\r\n",
        "plt.show()\r\n"
      ],
      "execution_count": 33,
      "outputs": [
        {
          "output_type": "display_data",
          "data": {
            "image/png": "[encoded data removed]",
            "text/plain": [
              "<Figure size 1152x432 with 1 Axes>"
            ]
          },
          "metadata": {
            "tags": [],
            "needs_background": "light"
          }
        }
      ]
    },
    {
      "cell_type": "code",
      "metadata": {
        "id": "iTcUtJUZVc6N"
      },
      "source": [
        "# Scatter plot of monthly profit\r\n",
        "Pink_Cab= monthly_data[monthly_data ['Company']=='Pink Cab'] \r\n",
        "Yellow_Cab= monthly_data[monthly_data ['Company']=='Yellow Cab'] \r\n"
      ],
      "execution_count": 34,
      "outputs": []
    },
    {
      "cell_type": "code",
      "metadata": {
        "colab": {
          "base_uri": "https://localhost:8080/",
          "height": 388
        },
        "id": "d8GALvpmIUwR",
        "outputId": "19cab240-3d02-4b58-f46a-ed5013b39685"
      },
      "source": [
        "plt.figure(figsize=(16, 6))\r\n",
        "fig4 = sns.lineplot(x='Date of Travel', y=\"Profit\",data=Pink_Cab)\r\n",
        "plt.show()\r\n"
      ],
      "execution_count": 35,
      "outputs": [
        {
          "output_type": "display_data",
          "data": {
            "image/png": "[encoded data removed]",
            "text/plain": [
              "<Figure size 1152x432 with 1 Axes>"
            ]
          },
          "metadata": {
            "tags": [],
            "needs_background": "light"
          }
        }
      ]
    },
    {
      "cell_type": "code",
      "metadata": {
        "colab": {
          "base_uri": "https://localhost:8080/",
          "height": 388
        },
        "id": "1u7HdZdJVU4i",
        "outputId": "a0c1b2c6-2baf-4c50-cb2e-8fc4b92a9ab0"
      },
      "source": [
        "plt.figure(figsize=(16, 6))\r\n",
        "fig5 = sns.lineplot(x='Date of Travel', y=\"Profit\",data=Yellow_Cab)\r\n",
        "plt.ticklabel_format(style='plain', axis='y')\r\n",
        "plt.show()\r\n"
      ],
      "execution_count": 36,
      "outputs": [
        {
          "output_type": "display_data",
          "data": {
            "image/png": "[encoded data removed]",
            "text/plain": [
              "<Figure size 1152x432 with 1 Axes>"
            ]
          },
          "metadata": {
            "tags": [],
            "needs_background": "light"
          }
        }
      ]
    },
    {
      "cell_type": "code",
      "metadata": {
        "colab": {
          "base_uri": "https://localhost:8080/",
          "height": 388
        },
        "id": "D9r3wcOHWI0z",
        "outputId": "6f75be3e-8044-43c5-ddcd-b439dc54e930"
      },
      "source": [
        "# plot profit/km\r\n",
        "plt.figure(figsize=(16, 6))\r\n",
        "fig6 = sns.barplot(x='Date of Travel', y='Profit/KM',hue='Company', data=yearly_data)\r\n",
        "plt.show()"
      ],
      "execution_count": 37,
      "outputs": [
        {
          "output_type": "display_data",
          "data": {
            "image/png": "[encoded data removed]",
            "text/plain": [
              "<Figure size 1152x432 with 1 Axes>"
            ]
          },
          "metadata": {
            "tags": [],
            "needs_background": "light"
          }
        }
      ]
    },
    {
      "cell_type": "code",
      "metadata": {
        "colab": {
          "base_uri": "https://localhost:8080/",
          "height": 447
        },
        "id": "XXet2ryx6ch6",
        "outputId": "2957a910-d3cf-43d5-9366-042240e05287"
      },
      "source": [
        "# plot profit/km\r\n",
        "plt.figure(figsize=(16, 6))\r\n",
        "fig7 = sns.barplot(x='City', y='Profit',hue='Company', data=Data_merged)\r\n",
        "fig7.set_xticklabels(fig7.get_xticklabels(),rotation=45)\r\n",
        "plt.show()"
      ],
      "execution_count": 38,
      "outputs": [
        {
          "output_type": "display_data",
          "data": {
            "image/png": "[encoded data removed]",
            "text/plain": [
              "<Figure size 1152x432 with 1 Axes>"
            ]
          },
          "metadata": {
            "tags": [],
            "needs_background": "light"
          }
        }
      ]
    },
    {
      "cell_type": "code",
      "metadata": {
        "colab": {
          "base_uri": "https://localhost:8080/",
          "height": 279
        },
        "id": "Za73nHXBNSan",
        "outputId": "40332392-88d1-4d13-82fa-bf145086a03c"
      },
      "source": [
        "\r\n",
        "# plot customers / company \r\n",
        "fig8 = sns.barplot(x='Company', y='Number of Customers', data=customers_final)\r\n",
        "plt.show()\r\n"
      ],
      "execution_count": 44,
      "outputs": [
        {
          "output_type": "display_data",
          "data": {
            "image/png": "[encoded data removed]",
            "text/plain": [
              "<Figure size 432x288 with 1 Axes>"
            ]
          },
          "metadata": {
            "tags": [],
            "needs_background": "light"
          }
        }
      ]
    },
    {
      "cell_type": "code",
      "metadata": {
        "colab": {
          "base_uri": "https://localhost:8080/",
          "height": 447
        },
        "id": "YuZsEIFbASKR",
        "outputId": "c4bc26d1-1531-4682-ffd4-fd0d82a4abb5"
      },
      "source": [
        "customers_city\r\n",
        "# plot customers / company per company \r\n",
        "plt.figure(figsize=(16, 6))\r\n",
        "fig8 = sns.barplot(x='City', y='Number of Customers',hue='Company', data=customers_city)\r\n",
        "fig8.set_xticklabels(fig8.get_xticklabels(),rotation=45)\r\n",
        "plt.show()"
      ],
      "execution_count": 45,
      "outputs": [
        {
          "output_type": "display_data",
          "data": {
            "image/png": "[encoded data removed]",
            "text/plain": [
              "<Figure size 1152x432 with 1 Axes>"
            ]
          },
          "metadata": {
            "tags": [],
            "needs_background": "light"
          }
        }
      ]
    },
    {
      "cell_type": "markdown",
      "metadata": {
        "id": "Tf90x1s6AFM2"
      },
      "source": [
        "# Final Recomendation: \r\n",
        "\r\n",
        "- yellow cab has more reach and more customers compared to pink cab\r\n",
        "- yellow cab profits was more than pink cab from 2016 to 2018 \r\n",
        " \r\n",
        "Thus I recommend investing with yellow cab as it will be a better option with more potential for gains"
      ]
    },
    {
      "cell_type": "code",
      "metadata": {
        "id": "zgm1ITVTNjT9"
      },
      "source": [
        ""
      ],
      "execution_count": null,
      "outputs": []
    }
  ]
}